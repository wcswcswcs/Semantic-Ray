{
 "cells": [
  {
   "cell_type": "code",
   "execution_count": 1,
   "id": "226b3779-1dc7-465b-8454-995db53eaf58",
   "metadata": {},
   "outputs": [],
   "source": [
    "import numpy as np\n",
    "import torch\n",
    "import abc\n",
    "import glob\n",
    "import os\n",
    "import shutil\n",
    "import cv2\n",
    "import pandas as pd\n",
    "from PIL import Image\n",
    "from skimage.io import imread\n",
    "from natsort import natsorted\n",
    "\n",
    "from sray.utils.base_utils import downsample_gaussian_blur, pose_inverse\n",
    "from sray.dataset.semantic_utils import PointSegClassMapping"
   ]
  },
  {
   "cell_type": "code",
   "execution_count": 2,
   "id": "8f6295cc-85b4-4694-b518-70d1d465227d",
   "metadata": {},
   "outputs": [
    {
     "data": {
      "text/plain": [
       "(968, 1296, 3)"
      ]
     },
     "execution_count": 2,
     "metadata": {},
     "output_type": "execute_result"
    }
   ],
   "source": [
    "data = imread('/home/chengshun.wang/pjs/Semantic-Ray/data/scannet/scene0000_00/color/0.jpg')\n",
    "data.shape"
   ]
  },
  {
   "cell_type": "code",
   "execution_count": 2,
   "id": "9283fcef-cc4a-4aaf-a104-711b19556942",
   "metadata": {},
   "outputs": [],
   "source": [
    "scannet_train_scans_320 = np.loadtxt('configs/scannetv2_train_whole_split.txt',dtype=str).tolist()\n",
    "# scannet_train_scans_320 = np.loadtxt('configs/scannetv2_train_split.txt',dtype=str).tolist()\n",
    "# scannet_val_scans_320 = np.loadtxt('configs/scannetv2_val_split.txt',dtype=str).tolist()\n",
    "# scannet_test_scans_320 = np.loadtxt('configs/scannetv2_test_split.txt',dtype=str).tolist()\n",
    "scannet_train_scans_320 = [i.split('/')[1] for i in scannet_train_scans_320]\n",
    "# scannet_test_scans_320 = [i.split('/')[1] for i in scannet_test_scans_320]\n",
    "# scannet_val_scans_320 = [i.split('/')[1] for i in scannet_val_scans_320]\n",
    "split2file_list={\n",
    "    'train':scannet_train_scans_320,\n",
    "    # 'test':scannet_test_scans_320,\n",
    "    # 'val':scannet_val_scans_320,\n",
    "}"
   ]
  },
  {
   "cell_type": "code",
   "execution_count": 3,
   "id": "50d22131-9da5-4603-ac8b-341f5a6558f4",
   "metadata": {},
   "outputs": [],
   "source": [
    "image_size = 320\n",
    "root_dir = '/mnt/data/chengshun.wang/scannet_2d'\n",
    "# data_dir = 'data/scannet/'\n",
    "data_dir = '/mnt/data/chengshun.wang/scannet_v2/scans/'\n",
    "ratio = image_size / 1296\n",
    "h, w = int(ratio*972), int(image_size)\n",
    "h, w = 240, int(image_size)\n"
   ]
  },
  {
   "cell_type": "code",
   "execution_count": 4,
   "id": "10d7ef48-b785-4f66-863a-7d5e73208485",
   "metadata": {},
   "outputs": [],
   "source": [
    "mapping_file = 'data/scannet/scannetv2-labels.combined.tsv'\n",
    "mapping_file = pd.read_csv(mapping_file, sep='\\t', header=0)\n",
    "scan_ids = mapping_file['id'].values\n",
    "nyu40_ids = mapping_file['nyu40id'].values\n",
    "scan2nyu = np.zeros(max(scan_ids) + 1, dtype=np.int32)\n",
    "for i in range(len(scan_ids)):\n",
    "    scan2nyu[scan_ids[i]] = nyu40_ids[i]\n",
    "scan2nyu = scan2nyu\n",
    "label_mapping = PointSegClassMapping(\n",
    "    valid_cat_ids=[1, 2, 3, 4, 5, 6, 7, 8, 9, 10,\n",
    "                   11, 12, 14, 16, 24, 28, 33, 34, 36, 39],\n",
    "    max_cat_id=40\n",
    ")"
   ]
  },
  {
   "cell_type": "code",
   "execution_count": 5,
   "id": "fd7b5e82-2a92-4436-836e-d9dffb206277",
   "metadata": {},
   "outputs": [],
   "source": [
    "def get_image(path):\n",
    "    img = imread(path)\n",
    "    if w != 1296:\n",
    "        img = cv2.resize(downsample_gaussian_blur(\n",
    "            img, ratio), (w, h), interpolation=cv2.INTER_LINEAR)\n",
    "    return img"
   ]
  },
  {
   "cell_type": "code",
   "execution_count": 20,
   "id": "aa8b06e5-8849-4ca4-aa08-6bd53e22eb81",
   "metadata": {},
   "outputs": [],
   "source": [
    "os.makedirs('/mnt/data/chengshun.wang/scannet_2d',exist_ok=True)\n",
    "os.makedirs('/mnt/data/chengshun.wang/scannet_2d/img_dir/train',exist_ok=True)\n",
    "os.makedirs('/mnt/data/chengshun.wang/scannet_2d/img_dir/val',exist_ok=True)\n",
    "os.makedirs('/mnt/data/chengshun.wang/scannet_2d/img_dir/test',exist_ok=True)\n",
    "os.makedirs('/mnt/data/chengshun.wang/scannet_2d/ann_dir/train',exist_ok=True)\n",
    "os.makedirs('/mnt/data/chengshun.wang/scannet_2d/ann_dir/val',exist_ok=True)\n",
    "os.makedirs('/mnt/data/chengshun.wang/scannet_2d/ann_dir/test',exist_ok=True)\n"
   ]
  },
  {
   "cell_type": "code",
   "execution_count": 6,
   "id": "0c59f45b-a361-4bc5-a8be-72cf702ef782",
   "metadata": {},
   "outputs": [],
   "source": [
    "def prepare_dataset_by_id(scene_id,split):\n",
    "    \n",
    "    rgb_paths = sorted([x for x in glob.glob(os.path.join(\n",
    "                data_dir,scene_id, \"color\", \"*\")) if (x.endswith(\".jpg\") or x.endswith(\".png\"))])\n",
    "    ano_paths = sorted([x for x in glob.glob(os.path.join(\n",
    "                data_dir,scene_id, \"label-filt\", \"*\")) if (x.endswith(\".jpg\") or x.endswith(\".png\"))])\n",
    "    assert len(rgb_paths) == len(ano_paths)\n",
    "    for ind,rgb_path in enumerate(rgb_paths):\n",
    "        img = get_image(rgb_path)\n",
    "        \n",
    "        label = Image.open(ano_paths[ind])\n",
    "        label = np.asarray(label, dtype=np.int32)\n",
    "        label = np.ascontiguousarray(label)\n",
    "        label = cv2.resize(label, (w, h), interpolation=cv2.INTER_NEAREST)\n",
    "        label = label.astype(np.int32)\n",
    "        label = scan2nyu[label]\n",
    "        label = label_mapping(label)\n",
    "        basename = str(scene_id) +'_'+ os.path.basename(ano_paths[ind]).split('.')[0]\n",
    "        # print(basename)\n",
    "        Image.fromarray(label.astype('uint8'), mode='L').save(os.path.join(root_dir,'ann_dir',split,basename+'.png'))\n",
    "        rgb_file_name = str(scene_id) +'_'+ os.path.basename(rgb_path)\n",
    "        Image.fromarray(img.astype('uint8')).save(os.path.join(root_dir,'img_dir',split,rgb_file_name))\n",
    "        \n",
    "        # load_ = np.asarray(Image.open(os.path.join(root_dir,'ann_dir',split,basename+'.png')), dtype=np.int32)\n",
    "        # assert (load_==label).all()\n",
    "        rgb_file_name = str(scene_id) +'_'+ os.path.basename(rgb_path)\n",
    "        # shutil.copy(rgb_path,os.path.join(root_dir,'img_dir',split,rgb_file_name))\n",
    "        \n",
    "        "
   ]
  },
  {
   "cell_type": "code",
   "execution_count": 128,
   "id": "d68e274b-f7ff-43d7-b906-9d6c85796265",
   "metadata": {},
   "outputs": [],
   "source": [
    "prepare_dataset_by_id('scene0160_00','test')"
   ]
  },
  {
   "cell_type": "code",
   "execution_count": 8,
   "id": "95e7d8c7-7c7c-44ea-9b45-77a4446834cd",
   "metadata": {},
   "outputs": [],
   "source": [
    "from multiprocessing import Pool"
   ]
  },
  {
   "cell_type": "code",
   "execution_count": null,
   "id": "1693c39e-60df-4c3c-929b-081aef80ceed",
   "metadata": {},
   "outputs": [],
   "source": []
  },
  {
   "cell_type": "code",
   "execution_count": 9,
   "id": "8e02627f-99b5-48c4-aa02-3ea2ed2e1908",
   "metadata": {},
   "outputs": [
    {
     "name": "stdout",
     "output_type": "stream",
     "text": [
      "[('scene0011_00', 'train'), ('scene0497_00', 'train'), ('scene0440_02', 'train'), ('scene0654_01', 'train'), ('scene0374_00', 'train'), ('scene0502_02', 'train'), ('scene0157_00', 'train'), ('scene0043_00', 'train'), ('scene0401_00', 'train'), ('scene0136_02', 'train'), ('scene0063_00', 'train'), ('scene0538_00', 'train'), ('scene0252_00', 'train'), ('scene0074_00', 'train'), ('scene0227_00', 'train'), ('scene0018_00', 'train'), ('scene0216_00', 'train'), ('scene0289_00', 'train'), ('scene0277_02', 'train'), ('scene0062_02', 'train'), ('scene0583_02', 'train'), ('scene0406_01', 'train'), ('scene0068_01', 'train'), ('scene0168_00', 'train'), ('scene0692_01', 'train'), ('scene0279_01', 'train'), ('scene0489_02', 'train'), ('scene0483_00', 'train'), ('scene0418_02', 'train'), ('scene0349_01', 'train'), ('scene0575_00', 'train'), ('scene0370_01', 'train'), ('scene0294_00', 'train'), ('scene0387_02', 'train'), ('scene0608_02', 'train'), ('scene0666_01', 'train'), ('scene0651_02', 'train'), ('scene0331_00', 'train'), ('scene0385_00', 'train'), ('scene0195_02', 'train'), ('scene0379_00', 'train'), ('scene0153_00', 'train'), ('scene0201_02', 'train'), ('scene0393_02', 'train'), ('scene0645_01', 'train'), ('scene0279_02', 'train'), ('scene0254_00', 'train'), ('scene0599_00', 'train'), ('scene0225_00', 'train'), ('scene0646_01', 'train'), ('scene0574_02', 'train'), ('scene0633_01', 'train'), ('scene0501_00', 'train'), ('scene0256_02', 'train'), ('scene0543_01', 'train'), ('scene0586_02', 'train'), ('scene0395_00', 'train'), ('scene0474_04', 'train'), ('scene0035_01', 'train'), ('scene0045_00', 'train'), ('scene0310_01', 'train'), ('scene0415_02', 'train'), ('scene0005_00', 'train'), ('scene0162_00', 'train'), ('scene0382_01', 'train'), ('scene0072_01', 'train'), ('scene0515_02', 'train'), ('scene0449_00', 'train'), ('scene0078_00', 'train'), ('scene0393_00', 'train'), ('scene0430_00', 'train'), ('scene0434_02', 'train'), ('scene0232_02', 'train'), ('scene0071_00', 'train'), ('scene0544_00', 'train'), ('scene0469_02', 'train'), ('scene0136_00', 'train'), ('scene0458_01', 'train'), ('scene0323_00', 'train'), ('scene0548_01', 'train'), ('scene0187_00', 'train'), ('scene0155_00', 'train'), ('scene0120_00', 'train'), ('scene0604_00', 'train'), ('scene0121_00', 'train'), ('scene0329_02', 'train'), ('scene0673_01', 'train'), ('scene0341_01', 'train'), ('scene0623_00', 'train'), ('scene0329_01', 'train'), ('scene0248_02', 'train'), ('scene0330_00', 'train'), ('scene0609_02', 'train'), ('scene0164_03', 'train'), ('scene0630_01', 'train'), ('scene0500_00', 'train'), ('scene0096_00', 'train'), ('scene0396_02', 'train'), ('scene0452_00', 'train'), ('scene0141_00', 'train'), ('scene0308_00', 'train'), ('scene0356_02', 'train'), ('scene0350_02', 'train'), ('scene0600_02', 'train'), ('scene0675_00', 'train'), ('scene0367_00', 'train'), ('scene0435_03', 'train'), ('scene0519_00', 'train'), ('scene0517_02', 'train'), ('scene0072_00', 'train'), ('scene0105_00', 'train'), ('scene0630_02', 'train'), ('scene0682_00', 'train'), ('scene0101_04', 'train'), ('scene0687_00', 'train'), ('scene0606_02', 'train'), ('scene0163_00', 'train'), ('scene0273_01', 'train'), ('scene0030_01', 'train'), ('scene0300_01', 'train'), ('scene0050_02', 'train'), ('scene0030_00', 'train'), ('scene0663_00', 'train'), ('scene0568_00', 'train'), ('scene0628_01', 'train'), ('scene0160_02', 'train'), ('scene0582_01', 'train'), ('scene0079_00', 'train'), ('scene0223_01', 'train'), ('scene0001_01', 'train'), ('scene0614_00', 'train'), ('scene0208_00', 'train'), ('scene0422_00', 'train'), ('scene0399_00', 'train'), ('scene0601_01', 'train'), ('scene0222_01', 'train'), ('scene0526_01', 'train'), ('scene0662_00', 'train'), ('scene0145_00', 'train'), ('scene0214_00', 'train'), ('scene0006_01', 'train'), ('scene0146_01', 'train'), ('scene0109_01', 'train'), ('scene0114_00', 'train'), ('scene0078_02', 'train'), ('scene0489_00', 'train'), ('scene0019_00', 'train'), ('scene0426_00', 'train'), ('scene0539_00', 'train'), ('scene0563_00', 'train'), ('scene0132_00', 'train'), ('scene0409_00', 'train'), ('scene0487_00', 'train'), ('scene0509_02', 'train'), ('scene0344_00', 'train'), ('scene0603_00', 'train'), ('scene0000_01', 'train'), ('scene0232_00', 'train'), ('scene0580_00', 'train'), ('scene0697_01', 'train'), ('scene0388_00', 'train'), ('scene0584_01', 'train'), ('scene0585_00', 'train'), ('scene0364_01', 'train'), ('scene0428_01', 'train'), ('scene0337_00', 'train'), ('scene0510_02', 'train'), ('scene0215_01', 'train'), ('scene0524_00', 'train'), ('scene0676_00', 'train'), ('scene0536_02', 'train'), ('scene0214_01', 'train'), ('scene0347_02', 'train'), ('scene0218_01', 'train'), ('scene0704_01', 'train'), ('scene0350_01', 'train'), ('scene0686_02', 'train'), ('scene0280_02', 'train'), ('scene0211_03', 'train'), ('scene0111_00', 'train'), ('scene0038_02', 'train'), ('scene0276_00', 'train'), ('scene0706_00', 'train'), ('scene0038_01', 'train'), ('scene0034_02', 'train'), ('scene0237_01', 'train'), ('scene0521_00', 'train'), ('scene0301_02', 'train'), ('scene0352_01', 'train'), ('scene0634_00', 'train'), ('scene0131_02', 'train'), ('scene0410_01', 'train'), ('scene0161_01', 'train'), ('scene0262_01', 'train'), ('scene0561_01', 'train'), ('scene0407_00', 'train'), ('scene0505_01', 'train'), ('scene0564_00', 'train'), ('scene0158_01', 'train'), ('scene0591_02', 'train'), ('scene0433_00', 'train'), ('scene0669_01', 'train'), ('scene0444_00', 'train'), ('scene0678_01', 'train'), ('scene0273_00', 'train'), ('scene0199_00', 'train'), ('scene0547_02', 'train'), ('scene0102_01', 'train'), ('scene0348_00', 'train'), ('scene0365_02', 'train'), ('scene0505_00', 'train'), ('scene0241_01', 'train'), ('scene0184_00', 'train'), ('scene0059_02', 'train'), ('scene0173_01', 'train'), ('scene0586_01', 'train'), ('scene0630_00', 'train'), ('scene0348_02', 'train'), ('scene0565_00', 'train'), ('scene0320_03', 'train'), ('scene0520_00', 'train'), ('scene0645_02', 'train'), ('scene0168_02', 'train'), ('scene0642_01', 'train'), ('scene0591_01', 'train'), ('scene0629_01', 'train'), ('scene0291_01', 'train'), ('scene0398_00', 'train'), ('scene0059_01', 'train'), ('scene0345_00', 'train'), ('scene0193_01', 'train'), ('scene0244_01', 'train'), ('scene0173_00', 'train'), ('scene0632_00', 'train'), ('scene0113_01', 'train'), ('scene0200_02', 'train'), ('scene0580_01', 'train'), ('scene0425_00', 'train'), ('scene0667_02', 'train'), ('scene0573_01', 'train'), ('scene0307_01', 'train'), ('scene0655_02', 'train'), ('scene0010_01', 'train'), ('scene0044_00', 'train'), ('scene0140_00', 'train'), ('scene0464_00', 'train'), ('scene0698_01', 'train'), ('scene0264_01', 'train'), ('scene0334_01', 'train'), ('scene0271_00', 'train'), ('scene0429_00', 'train'), ('scene0697_02', 'train'), ('scene0517_01', 'train'), ('scene0700_02', 'train'), ('scene0328_00', 'train'), ('scene0248_01', 'train'), ('scene0204_02', 'train'), ('scene0505_03', 'train'), ('scene0248_00', 'train'), ('scene0270_01', 'train'), ('scene0624_00', 'train'), ('scene0383_01', 'train'), ('scene0388_01', 'train'), ('scene0602_00', 'train'), ('scene0466_00', 'train'), ('scene0501_01', 'train'), ('scene0629_02', 'train'), ('scene0200_00', 'train'), ('scene0013_00', 'train'), ('scene0048_01', 'train'), ('scene0622_01', 'train'), ('scene0348_01', 'train'), ('scene0631_00', 'train'), ('scene0321_00', 'train'), ('scene0606_01', 'train'), ('scene0340_00', 'train'), ('scene0014_00', 'train'), ('scene0306_01', 'train'), ('scene0475_02', 'train'), ('scene0633_00', 'train'), ('scene0256_00', 'train'), ('scene0015_00', 'train'), ('scene0392_02', 'train'), ('scene0443_00', 'train'), ('scene0666_02', 'train'), ('scene0192_00', 'train'), ('scene0303_02', 'train'), ('scene0559_00', 'train'), ('scene0558_02', 'train'), ('scene0451_00', 'train'), ('scene0050_00', 'train'), ('scene0660_00', 'train'), ('scene0316_00', 'train'), ('scene0263_01', 'train'), ('scene0488_00', 'train'), ('scene0453_00', 'train'), ('scene0214_02', 'train'), ('scene0139_00', 'train'), ('scene0065_01', 'train'), ('scene0170_01', 'train'), ('scene0469_01', 'train'), ('scene0555_00', 'train'), ('scene0255_00', 'train'), ('scene0286_00', 'train'), ('scene0147_00', 'train'), ('scene0310_02', 'train'), ('scene0048_00', 'train'), ('scene0016_00', 'train'), ('scene0459_00', 'train'), ('scene0523_00', 'train'), ('scene0172_00', 'train'), ('scene0088_03', 'train'), ('scene0650_00', 'train'), ('scene0609_00', 'train'), ('scene0130_00', 'train'), ('scene0560_00', 'train'), ('scene0383_02', 'train'), ('scene0603_01', 'train'), ('scene0511_00', 'train'), ('scene0269_01', 'train'), ('scene0597_00', 'train'), ('scene0296_00', 'train'), ('scene0293_00', 'train'), ('scene0274_02', 'train'), ('scene0448_01', 'train'), ('scene0351_00', 'train'), ('scene0543_02', 'train'), ('scene0101_02', 'train'), ('scene0295_01', 'train'), ('scene0420_02', 'train'), ('scene0312_02', 'train'), ('scene0656_03', 'train'), ('scene0170_00', 'train'), ('scene0677_02', 'train'), ('scene0186_00', 'train'), ('scene0124_01', 'train'), ('scene0670_01', 'train'), ('scene0678_02', 'train'), ('scene0545_02', 'train'), ('scene0146_02', 'train'), ('scene0439_01', 'train'), ('scene0584_00', 'train'), ('scene0355_00', 'train'), ('scene0174_01', 'train'), ('scene0332_01', 'train'), ('scene0163_01', 'train'), ('scene0675_01', 'train'), ('scene0101_01', 'train'), ('scene0644_00', 'train'), ('scene0418_00', 'train'), ('scene0312_01', 'train'), ('scene0475_01', 'train'), ('scene0463_00', 'train'), ('scene0478_01', 'train'), ('scene0124_00', 'train'), ('scene0673_03', 'train'), ('scene0451_01', 'train'), ('scene0207_02', 'train'), ('scene0646_02', 'train'), ('scene0528_00', 'train'), ('scene0247_00', 'train'), ('scene0178_00', 'train'), ('scene0451_05', 'train'), ('scene0158_00', 'train'), ('scene0260_02', 'train'), ('scene0553_00', 'train'), ('scene0246_00', 'train'), ('scene0625_01', 'train'), ('scene0096_01', 'train'), ('scene0237_00', 'train'), ('scene0101_03', 'train'), ('scene0557_01', 'train'), ('scene0648_00', 'train'), ('scene0229_01', 'train'), ('scene0671_01', 'train'), ('scene0579_00', 'train'), ('scene0010_00', 'train'), ('scene0298_00', 'train'), ('scene0250_00', 'train'), ('scene0674_00', 'train'), ('scene0470_01', 'train'), ('scene0095_00', 'train'), ('scene0610_01', 'train'), ('scene0054_00', 'train'), ('scene0426_03', 'train'), ('scene0111_02', 'train'), ('scene0549_01', 'train'), ('scene0209_02', 'train'), ('scene0305_01', 'train'), ('scene0649_00', 'train'), ('scene0596_01', 'train'), ('scene0514_01', 'train'), ('scene0080_00', 'train'), ('scene0352_02', 'train'), ('scene0683_00', 'train'), ('scene0047_00', 'train'), ('scene0197_01', 'train'), ('scene0013_01', 'train'), ('scene0016_01', 'train'), ('scene0105_01', 'train'), ('scene0450_00', 'train'), ('scene0676_01', 'train'), ('scene0615_01', 'train'), ('scene0606_00', 'train'), ('scene0144_00', 'train'), ('scene0392_01', 'train'), ('scene0416_01', 'train'), ('scene0426_01', 'train'), ('scene0667_01', 'train'), ('scene0363_00', 'train'), ('scene0102_00', 'train'), ('scene0319_00', 'train'), ('scene0403_01', 'train'), ('scene0586_00', 'train'), ('scene0421_02', 'train'), ('scene0058_01', 'train'), ('scene0576_02', 'train'), ('scene0373_00', 'train'), ('scene0053_00', 'train'), ('scene0463_01', 'train'), ('scene0336_01', 'train'), ('scene0044_01', 'train'), ('scene0291_00', 'train'), ('scene0115_01', 'train'), ('scene0207_00', 'train'), ('scene0608_00', 'train'), ('scene0356_01', 'train'), ('scene0394_01', 'train'), ('scene0334_02', 'train'), ('scene0266_00', 'train'), ('scene0515_00', 'train'), ('scene0372_00', 'train'), ('scene0516_00', 'train'), ('scene0559_01', 'train'), ('scene0170_02', 'train'), ('scene0578_00', 'train'), ('scene0571_01', 'train'), ('scene0502_00', 'train'), ('scene0545_00', 'train'), ('scene0326_00', 'train'), ('scene0188_00', 'train'), ('scene0044_02', 'train'), ('scene0121_02', 'train'), ('scene0182_00', 'train'), ('scene0493_01', 'train'), ('scene0161_02', 'train'), ('scene0151_01', 'train'), ('scene0435_01', 'train'), ('scene0231_01', 'train'), ('scene0279_00', 'train'), ('scene0226_01', 'train'), ('scene0704_00', 'train'), ('scene0223_02', 'train'), ('scene0396_01', 'train'), ('scene0613_00', 'train'), ('scene0420_01', 'train'), ('scene0347_00', 'train'), ('scene0696_01', 'train'), ('scene0105_02', 'train'), ('scene0026_00', 'train'), ('scene0265_01', 'train'), ('scene0141_02', 'train'), ('scene0254_01', 'train'), ('scene0581_02', 'train'), ('scene0260_00', 'train'), ('scene0067_01', 'train'), ('scene0023_00', 'train'), ('scene0329_00', 'train'), ('scene0596_02', 'train'), ('scene0672_01', 'train'), ('scene0656_02', 'train'), ('scene0144_01', 'train'), ('scene0627_01', 'train'), ('scene0592_00', 'train'), ('scene0211_02', 'train'), ('scene0240_00', 'train'), ('scene0110_01', 'train'), ('scene0221_01', 'train'), ('scene0041_01', 'train'), ('scene0138_00', 'train'), ('scene0169_01', 'train'), ('scene0034_01', 'train'), ('scene0282_00', 'train'), ('scene0572_02', 'train'), ('scene0435_02', 'train'), ('scene0505_02', 'train'), ('scene0471_01', 'train'), ('scene0115_02', 'train'), ('scene0594_00', 'train'), ('scene0517_00', 'train'), ('scene0476_02', 'train'), ('scene0391_00', 'train'), ('scene0171_00', 'train'), ('scene0457_00', 'train'), ('scene0195_00', 'train'), ('scene0003_00', 'train'), ('scene0369_00', 'train'), ('scene0173_02', 'train'), ('scene0116_01', 'train'), ('scene0557_00', 'train'), ('scene0166_02', 'train'), ('scene0046_01', 'train'), ('scene0437_01', 'train'), ('scene0270_00', 'train'), ('scene0479_01', 'train'), ('scene0424_02', 'train'), ('scene0337_01', 'train'), ('scene0488_01', 'train'), ('scene0529_00', 'train'), ('scene0593_01', 'train'), ('scene0206_02', 'train'), ('scene0690_01', 'train'), ('scene0031_02', 'train'), ('scene0647_01', 'train'), ('scene0220_01', 'train'), ('scene0060_00', 'train'), ('scene0150_00', 'train'), ('scene0224_00', 'train'), ('scene0021_00', 'train'), ('scene0622_00', 'train'), ('scene0098_01', 'train'), ('scene0116_02', 'train'), ('scene0235_00', 'train'), ('scene0365_01', 'train'), ('scene0630_06', 'train'), ('scene0652_00', 'train'), ('scene0432_01', 'train'), ('scene0470_00', 'train'), ('scene0032_01', 'train'), ('scene0412_01', 'train'), ('scene0204_01', 'train'), ('scene0108_00', 'train'), ('scene0581_00', 'train'), ('scene0217_00', 'train'), ('scene0418_01', 'train'), ('scene0398_01', 'train'), ('scene0275_00', 'train'), ('scene0674_01', 'train'), ('scene0315_00', 'train'), ('scene0449_01', 'train'), ('scene0019_01', 'train'), ('scene0157_01', 'train'), ('scene0640_01', 'train'), ('scene0196_00', 'train'), ('scene0132_01', 'train'), ('scene0599_01', 'train'), ('scene0663_02', 'train'), ('scene0542_00', 'train'), ('scene0335_00', 'train'), ('scene0103_00', 'train'), ('scene0093_02', 'train'), ('scene0364_00', 'train'), ('scene0413_00', 'train'), ('scene0221_00', 'train'), ('scene0362_02', 'train'), ('scene0228_00', 'train'), ('scene0355_01', 'train'), ('scene0629_00', 'train'), ('scene0134_00', 'train'), ('scene0370_00', 'train'), ('scene0238_00', 'train'), ('scene0358_02', 'train'), ('scene0166_01', 'train'), ('scene0169_00', 'train'), ('scene0476_01', 'train'), ('scene0080_02', 'train'), ('scene0183_00', 'train'), ('scene0540_02', 'train'), ('scene0468_00', 'train'), ('scene0323_01', 'train'), ('scene0381_02', 'train'), ('scene0552_01', 'train'), ('scene0614_01', 'train'), ('scene0421_00', 'train'), ('scene0407_01', 'train'), ('scene0094_00', 'train'), ('scene0504_00', 'train'), ('scene0313_01', 'train'), ('scene0415_01', 'train'), ('scene0428_00', 'train'), ('scene0453_01', 'train'), ('scene0639_00', 'train'), ('scene0574_00', 'train'), ('scene0002_00', 'train'), ('scene0258_00', 'train'), ('scene0460_00', 'train'), ('scene0439_00', 'train'), ('scene0673_04', 'train'), ('scene0177_01', 'train'), ('scene0077_01', 'train'), ('scene0579_02', 'train'), ('scene0012_01', 'train'), ('scene0416_03', 'train'), ('scene0356_00', 'train'), ('scene0213_00', 'train'), ('scene0514_00', 'train'), ('scene0415_00', 'train'), ('scene0081_01', 'train'), ('scene0476_00', 'train'), ('scene0465_01', 'train'), ('scene0327_00', 'train'), ('scene0261_00', 'train'), ('scene0457_01', 'train'), ('scene0060_01', 'train'), ('scene0508_02', 'train'), ('scene0607_01', 'train'), ('scene0609_01', 'train'), ('scene0165_00', 'train'), ('scene0205_00', 'train'), ('scene0161_00', 'train'), ('scene0122_00', 'train'), ('scene0698_00', 'train'), ('scene0119_00', 'train'), ('scene0588_00', 'train'), ('scene0307_00', 'train'), ('scene0471_00', 'train'), ('scene0570_00', 'train'), ('scene0153_01', 'train'), ('scene0381_01', 'train'), ('scene0656_00', 'train'), ('scene0510_00', 'train'), ('scene0389_00', 'train'), ('scene0313_00', 'train'), ('scene0069_00', 'train'), ('scene0601_00', 'train'), ('scene0409_01', 'train'), ('scene0695_01', 'train'), ('scene0127_01', 'train'), ('scene0411_00', 'train'), ('scene0335_02', 'train'), ('scene0628_00', 'train'), ('scene0282_01', 'train'), ('scene0151_00', 'train'), ('scene0174_00', 'train'), ('scene0616_01', 'train'), ('scene0673_00', 'train'), ('scene0681_00', 'train'), ('scene0446_01', 'train'), ('scene0036_00', 'train'), ('scene0259_01', 'train'), ('scene0177_02', 'train'), ('scene0421_01', 'train'), ('scene0112_01', 'train'), ('scene0574_01', 'train'), ('scene0527_00', 'train'), ('scene0598_01', 'train'), ('scene0467_00', 'train'), ('scene0451_02', 'train'), ('scene0046_00', 'train'), ('scene0177_00', 'train'), ('scene0238_01', 'train'), ('scene0642_00', 'train'), ('scene0572_01', 'train'), ('scene0339_00', 'train'), ('scene0371_01', 'train'), ('scene0662_01', 'train'), ('scene0492_00', 'train'), ('scene0234_00', 'train'), ('scene0181_00', 'train'), ('scene0680_00', 'train'), ('scene0596_00', 'train'), ('scene0525_01', 'train'), ('scene0352_00', 'train'), ('scene0164_02', 'train'), ('scene0532_01', 'train'), ('scene0126_02', 'train'), ('scene0696_02', 'train'), ('scene0475_00', 'train'), ('scene0600_01', 'train'), ('scene0667_00', 'train'), ('scene0301_00', 'train'), ('scene0123_02', 'train'), ('scene0520_01', 'train'), ('scene0141_01', 'train'), ('scene0394_00', 'train'), ('scene0259_00', 'train'), ('scene0192_01', 'train'), ('scene0408_01', 'train'), ('scene0436_00', 'train'), ('scene0291_02', 'train'), ('scene0104_00', 'train'), ('scene0143_00', 'train'), ('scene0426_02', 'train'), ('scene0381_00', 'train'), ('scene0536_00', 'train'), ('scene0350_00', 'train'), ('scene0009_00', 'train'), ('scene0062_00', 'train'), ('scene0376_00', 'train'), ('scene0665_00', 'train'), ('scene0416_02', 'train'), ('scene0310_00', 'train'), ('scene0268_02', 'train'), ('scene0378_02', 'train'), ('scene0465_00', 'train'), ('scene0692_04', 'train'), ('scene0378_01', 'train'), ('scene0198_00', 'train'), ('scene0133_00', 'train'), ('scene0368_01', 'train'), ('scene0353_02', 'train'), ('scene0558_00', 'train'), ('scene0115_00', 'train'), ('scene0693_01', 'train'), ('scene0447_02', 'train'), ('scene0287_00', 'train'), ('scene0056_00', 'train'), ('scene0673_05', 'train'), ('scene0307_02', 'train'), ('scene0261_02', 'train'), ('scene0484_01', 'train'), ('scene0207_01', 'train'), ('scene0264_00', 'train'), ('scene0068_00', 'train'), ('scene0357_01', 'train'), ('scene0589_00', 'train'), ('scene0589_02', 'train'), ('scene0344_01', 'train'), ('scene0468_01', 'train'), ('scene0445_01', 'train'), ('scene0550_00', 'train'), ('scene0458_00', 'train'), ('scene0191_02', 'train'), ('scene0064_00', 'train'), ('scene0303_01', 'train'), ('scene0241_00', 'train'), ('scene0373_01', 'train'), ('scene0661_00', 'train'), ('scene0631_01', 'train'), ('scene0186_01', 'train'), ('scene0454_00', 'train'), ('scene0118_00', 'train'), ('scene0318_00', 'train'), ('scene0192_02', 'train'), ('scene0190_00', 'train'), ('scene0061_01', 'train'), ('scene0473_01', 'train'), ('scene0424_00', 'train'), ('scene0201_00', 'train'), ('scene0659_01', 'train'), ('scene0222_00', 'train'), ('scene0534_00', 'train'), ('scene0282_02', 'train'), ('scene0423_00', 'train'), ('scene0342_00', 'train'), ('scene0490_00', 'train'), ('scene0495_00', 'train'), ('scene0662_02', 'train'), ('scene0615_00', 'train'), ('scene0402_00', 'train'), ('scene0405_00', 'train'), ('scene0089_01', 'train'), ('scene0164_00', 'train'), ('scene0369_02', 'train'), ('scene0340_02', 'train'), ('scene0158_02', 'train'), ('scene0277_00', 'train'), ('scene0349_00', 'train'), ('scene0211_01', 'train'), ('scene0084_01', 'train'), ('scene0067_00', 'train'), ('scene0419_00', 'train'), ('scene0535_00', 'train'), ('scene0385_02', 'train'), ('scene0396_00', 'train'), ('scene0393_01', 'train'), ('scene0022_00', 'train'), ('scene0100_00', 'train'), ('scene0284_00', 'train'), ('scene0592_01', 'train'), ('scene0357_00', 'train'), ('scene0067_02', 'train'), ('scene0411_02', 'train'), ('scene0630_03', 'train'), ('scene0669_00', 'train'), ('scene0684_00', 'train'), ('scene0017_01', 'train'), ('scene0406_00', 'train'), ('scene0097_00', 'train'), ('scene0553_01', 'train'), ('scene0498_01', 'train'), ('scene0152_00', 'train'), ('scene0195_01', 'train'), ('scene0027_02', 'train'), ('scene0456_00', 'train'), ('scene0404_01', 'train'), ('scene0320_02', 'train'), ('scene0589_01', 'train'), ('scene0365_00', 'train'), ('scene0525_02', 'train'), ('scene0233_00', 'train'), ('scene0645_00', 'train'), ('scene0137_02', 'train'), ('scene0385_01', 'train'), ('scene0215_00', 'train'), ('scene0522_00', 'train'), ('scene0106_01', 'train'), ('scene0210_00', 'train'), ('scene0175_00', 'train'), ('scene0642_03', 'train'), ('scene0189_00', 'train'), ('scene0404_00', 'train'), ('scene0554_00', 'train'), ('scene0400_00', 'train'), ('scene0587_01', 'train'), ('scene0543_00', 'train'), ('scene0031_00', 'train'), ('scene0065_02', 'train'), ('scene0000_00', 'train'), ('scene0292_01', 'train'), ('scene0598_00', 'train'), ('scene0299_00', 'train'), ('scene0182_01', 'train'), ('scene0052_01', 'train'), ('scene0400_01', 'train'), ('scene0608_01', 'train'), ('scene0101_00', 'train'), ('scene0271_01', 'train'), ('scene0206_01', 'train'), ('scene0277_01', 'train'), ('scene0640_00', 'train'), ('scene0191_01', 'train'), ('scene0440_00', 'train'), ('scene0479_00', 'train'), ('scene0626_00', 'train'), ('scene0093_00', 'train'), ('scene0261_03', 'train'), ('scene0697_03', 'train'), ('scene0128_00', 'train'), ('scene0359_00', 'train'), ('scene0539_02', 'train'), ('scene0285_00', 'train'), ('scene0025_02', 'train'), ('scene0353_01', 'train'), ('scene0239_01', 'train'), ('scene0191_00', 'train'), ('scene0160_04', 'train'), ('scene0423_01', 'train'), ('scene0469_00', 'train'), ('scene0203_00', 'train'), ('scene0649_01', 'train'), ('scene0461_00', 'train'), ('scene0516_01', 'train'), ('scene0159_00', 'train'), ('scene0678_00', 'train'), ('scene0185_00', 'train'), ('scene0548_02', 'train'), ('scene0029_01', 'train'), ('scene0685_00', 'train'), ('scene0171_01', 'train'), ('scene0219_00', 'train'), ('scene0134_01', 'train'), ('scene0498_00', 'train'), ('scene0058_00', 'train'), ('scene0686_01', 'train'), ('scene0616_00', 'train'), ('scene0281_00', 'train'), ('scene0262_00', 'train'), ('scene0168_01', 'train'), ('scene0478_00', 'train'), ('scene0073_03', 'train'), ('scene0575_01', 'train'), ('scene0375_02', 'train'), ('scene0587_03', 'train'), ('scene0202_00', 'train'), ('scene0474_01', 'train'), ('scene0093_01', 'train'), ('scene0294_01', 'train'), ('scene0231_00', 'train'), ('scene0529_01', 'train'), ('scene0037_00', 'train'), ('scene0387_00', 'train'), ('scene0211_00', 'train'), ('scene0423_02', 'train'), ('scene0414_00', 'train'), ('scene0431_00', 'train'), ('scene0438_00', 'train'), ('scene0665_01', 'train'), ('scene0435_00', 'train'), ('scene0610_00', 'train'), ('scene0057_00', 'train'), ('scene0231_02', 'train'), ('scene0036_01', 'train'), ('scene0337_02', 'train'), ('scene0296_01', 'train'), ('scene0289_01', 'train'), ('scene0559_02', 'train'), ('scene0303_00', 'train'), ('scene0595_00', 'train'), ('scene0578_01', 'train'), ('scene0588_02', 'train'), ('scene0571_00', 'train'), ('scene0140_01', 'train'), ('scene0452_02', 'train'), ('scene0242_01', 'train'), ('scene0147_01', 'train'), ('scene0325_00', 'train'), ('scene0651_01', 'train'), ('scene0700_01', 'train'), ('scene0276_01', 'train'), ('scene0690_00', 'train'), ('scene0579_01', 'train'), ('scene0087_02', 'train'), ('scene0410_00', 'train'), ('scene0027_01', 'train'), ('scene0604_01', 'train'), ('scene0445_00', 'train'), ('scene0581_01', 'train'), ('scene0553_02', 'train'), ('scene0451_03', 'train'), ('scene0265_02', 'train'), ('scene0255_02', 'train'), ('scene0009_02', 'train'), ('scene0007_00', 'train'), ('scene0154_00', 'train'), ('scene0022_01', 'train'), ('scene0087_00', 'train'), ('scene0079_01', 'train'), ('scene0518_00', 'train'), ('scene0685_01', 'train'), ('scene0242_00', 'train'), ('scene0103_01', 'train'), ('scene0705_00', 'train'), ('scene0554_01', 'train'), ('scene0046_02', 'train'), ('scene0034_00', 'train'), ('scene0164_01', 'train'), ('scene0040_00', 'train'), ('scene0335_01', 'train'), ('scene0568_02', 'train'), ('scene0346_00', 'train'), ('scene0317_00', 'train'), ('scene0376_02', 'train'), ('scene0664_01', 'train'), ('scene0367_01', 'train'), ('scene0680_01', 'train'), ('scene0567_00', 'train'), ('scene0607_00', 'train'), ('scene0078_01', 'train'), ('scene0179_00', 'train'), ('scene0106_02', 'train'), ('scene0485_00', 'train'), ('scene0131_01', 'train'), ('scene0062_01', 'train'), ('scene0314_00', 'train'), ('scene0320_00', 'train'), ('scene0558_01', 'train'), ('scene0702_01', 'train'), ('scene0472_00', 'train'), ('scene0035_00', 'train'), ('scene0419_02', 'train'), ('scene0399_01', 'train'), ('scene0425_01', 'train'), ('scene0013_02', 'train'), ('scene0300_00', 'train'), ('scene0152_02', 'train'), ('scene0503_00', 'train'), ('scene0244_00', 'train'), ('scene0508_01', 'train'), ('scene0612_00', 'train'), ('scene0230_00', 'train'), ('scene0012_02', 'train'), ('scene0369_01', 'train'), ('scene0591_00', 'train'), ('scene0059_00', 'train'), ('scene0020_00', 'train'), ('scene0494_00', 'train'), ('scene0597_02', 'train'), ('scene0003_02', 'train'), ('scene0005_01', 'train'), ('scene0569_00', 'train'), ('scene0695_00', 'train'), ('scene0593_00', 'train'), ('scene0017_02', 'train'), ('scene0637_00', 'train'), ('scene0692_02', 'train'), ('scene0074_02', 'train'), ('scene0375_01', 'train'), ('scene0636_00', 'train'), ('scene0309_00', 'train'), ('scene0024_01', 'train'), ('scene0630_05', 'train'), ('scene0297_02', 'train'), ('scene0210_01', 'train'), ('scene0457_02', 'train'), ('scene0288_01', 'train'), ('scene0039_01', 'train'), ('scene0077_00', 'train'), ('scene0505_04', 'train'), ('scene0064_01', 'train'), ('scene0109_00', 'train'), ('scene0380_00', 'train'), ('scene0180_00', 'train'), ('scene0274_00', 'train'), ('scene0692_03', 'train'), ('scene0040_01', 'train'), ('scene0537_00', 'train'), ('scene0004_00', 'train'), ('scene0182_02', 'train'), ('scene0187_01', 'train'), ('scene0220_00', 'train'), ('scene0576_00', 'train'), ('scene0630_04', 'train'), ('scene0206_00', 'train'), ('scene0582_02', 'train'), ('scene0084_00', 'train'), ('scene0167_00', 'train'), ('scene0116_00', 'train'), ('scene0643_00', 'train'), ('scene0377_00', 'train'), ('scene0620_01', 'train'), ('scene0424_01', 'train'), ('scene0263_00', 'train'), ('scene0117_00', 'train'), ('scene0691_01', 'train'), ('scene0578_02', 'train'), ('scene0635_00', 'train'), ('scene0286_01', 'train'), ('scene0197_00', 'train'), ('scene0647_00', 'train'), ('scene0137_00', 'train'), ('scene0653_00', 'train'), ('scene0136_01', 'train'), ('scene0673_02', 'train'), ('scene0659_00', 'train'), ('scene0472_02', 'train'), ('scene0576_01', 'train'), ('scene0114_01', 'train'), ('scene0324_01', 'train'), ('scene0345_01', 'train'), ('scene0545_01', 'train'), ('scene0534_01', 'train'), ('scene0377_01', 'train'), ('scene0302_00', 'train'), ('scene0420_00', 'train'), ('scene0599_02', 'train'), ('scene0092_04', 'train'), ('scene0679_01', 'train'), ('scene0541_01', 'train'), ('scene0513_00', 'train'), ('scene0417_00', 'train'), ('scene0280_00', 'train'), ('scene0001_00', 'train'), ('scene0143_02', 'train'), ('scene0371_00', 'train'), ('scene0092_03', 'train'), ('scene0242_02', 'train'), ('scene0539_01', 'train'), ('scene0112_02', 'train'), ('scene0286_03', 'train'), ('scene0456_01', 'train'), ('scene0278_01', 'train'), ('scene0530_00', 'train'), ('scene0111_01', 'train'), ('scene0099_01', 'train'), ('scene0359_01', 'train'), ('scene0311_00', 'train'), ('scene0223_00', 'train'), ('scene0526_00', 'train'), ('scene0397_01', 'train'), ('scene0479_02', 'train'), ('scene0362_01', 'train'), ('scene0451_04', 'train'), ('scene0703_00', 'train'), ('scene0156_00', 'train'), ('scene0212_01', 'train'), ('scene0006_02', 'train'), ('scene0655_01', 'train'), ('scene0611_01', 'train'), ('scene0003_01', 'train'), ('scene0557_02', 'train'), ('scene0533_01', 'train'), ('scene0243_00', 'train'), ('scene0042_01', 'train'), ('scene0619_00', 'train'), ('scene0561_00', 'train'), ('scene0477_00', 'train'), ('scene0265_00', 'train'), ('scene0042_00', 'train'), ('scene0057_01', 'train'), ('scene0107_00', 'train'), ('scene0200_01', 'train'), ('scene0172_01', 'train'), ('scene0452_01', 'train'), ('scene0623_01', 'train'), ('scene0290_00', 'train'), ('scene0203_01', 'train'), ('scene0038_00', 'train'), ('scene0092_01', 'train'), ('scene0626_01', 'train'), ('scene0025_00', 'train'), ('scene0000_02', 'train'), ('scene0666_00', 'train'), ('scene0088_02', 'train'), ('scene0403_00', 'train'), ('scene0257_00', 'train'), ('scene0129_00', 'train'), ('scene0205_01', 'train'), ('scene0598_02', 'train'), ('scene0496_00', 'train'), ('scene0333_00', 'train'), ('scene0341_00', 'train'), ('scene0664_02', 'train'), ('scene0118_01', 'train'), ('scene0688_00', 'train'), ('scene0313_02', 'train'), ('scene0212_00', 'train'), ('scene0012_00', 'train'), ('scene0229_00', 'train'), ('scene0459_01', 'train'), ('scene0110_00', 'train'), ('scene0086_01', 'train'), ('scene0380_02', 'train'), ('scene0081_02', 'train'), ('scene0671_00', 'train'), ('scene0232_01', 'train'), ('scene0434_00', 'train'), ('scene0685_02', 'train'), ('scene0447_00', 'train'), ('scene0274_01', 'train'), ('scene0181_02', 'train'), ('scene0532_00', 'train'), ('scene0084_02', 'train'), ('scene0256_01', 'train'), ('scene0181_03', 'train'), ('scene0073_00', 'train'), ('scene0377_02', 'train'), ('scene0126_00', 'train'), ('scene0566_00', 'train'), ('scene0604_02', 'train'), ('scene0620_00', 'train'), ('scene0201_01', 'train'), ('scene0628_02', 'train'), ('scene0134_02', 'train'), ('scene0540_00', 'train'), ('scene0031_01', 'train'), ('scene0126_01', 'train'), ('scene0648_01', 'train'), ('scene0205_02', 'train'), ('scene0696_00', 'train'), ('scene0226_00', 'train'), ('scene0472_01', 'train'), ('scene0556_00', 'train'), ('scene0331_01', 'train'), ('scene0642_02', 'train'), ('scene0378_00', 'train'), ('scene0657_00', 'train'), ('scene0462_00', 'train'), ('scene0447_01', 'train'), ('scene0533_00', 'train'), ('scene0529_02', 'train'), ('scene0449_02', 'train'), ('scene0346_01', 'train'), ('scene0361_02', 'train'), ('scene0295_00', 'train'), ('scene0510_01', 'train'), ('scene0437_00', 'train'), ('scene0297_00', 'train'), ('scene0556_01', 'train'), ('scene0419_01', 'train'), ('scene0118_02', 'train'), ('scene0569_01', 'train'), ('scene0507_00', 'train'), ('scene0096_02', 'train'), ('scene0617_00', 'train'), ('scene0266_01', 'train'), ('scene0446_00', 'train'), ('scene0101_05', 'train'), ('scene0547_00', 'train'), ('scene0146_00', 'train'), ('scene0587_00', 'train'), ('scene0523_01', 'train'), ('scene0083_00', 'train'), ('scene0404_02', 'train'), ('scene0701_01', 'train'), ('scene0336_00', 'train'), ('scene0149_00', 'train'), ('scene0269_00', 'train'), ('scene0641_00', 'train'), ('scene0482_01', 'train'), ('scene0486_00', 'train'), ('scene0584_02', 'train'), ('scene0701_00', 'train'), ('scene0395_01', 'train'), ('scene0042_02', 'train'), ('scene0583_00', 'train'), ('scene0194_00', 'train'), ('scene0631_02', 'train'), ('scene0587_02', 'train'), ('scene0334_00', 'train'), ('scene0570_02', 'train'), ('scene0142_00', 'train'), ('scene0551_00', 'train'), ('scene0106_00', 'train'), ('scene0055_00', 'train'), ('scene0212_02', 'train'), ('scene0361_00', 'train'), ('scene0471_02', 'train'), ('scene0684_01', 'train'), ('scene0250_02', 'train'), ('scene0612_01', 'train'), ('scene0055_02', 'train'), ('scene0261_01', 'train'), ('scene0358_01', 'train'), ('scene0113_00', 'train'), ('scene0354_00', 'train'), ('scene0320_01', 'train'), ('scene0362_00', 'train'), ('scene0165_02', 'train'), ('scene0640_02', 'train'), ('scene0654_00', 'train'), ('scene0091_00', 'train'), ('scene0434_01', 'train'), ('scene0087_01', 'train'), ('scene0150_02', 'train'), ('scene0055_01', 'train'), ('scene0176_00', 'train'), ('scene0278_00', 'train'), ('scene0691_00', 'train'), ('scene0123_00', 'train'), ('scene0043_01', 'train'), ('scene0088_01', 'train'), ('scene0268_00', 'train'), ('scene0609_03', 'train'), ('scene0568_01', 'train'), ('scene0286_02', 'train'), ('scene0086_00', 'train'), ('scene0114_02', 'train'), ('scene0249_00', 'train'), ('scene0570_01', 'train'), ('scene0701_02', 'train'), ('scene0672_00', 'train'), ('scene0590_01', 'train'), ('scene0152_01', 'train'), ('scene0375_00', 'train'), ('scene0066_00', 'train'), ('scene0376_01', 'train'), ('scene0272_00', 'train'), ('scene0572_00', 'train'), ('scene0502_01', 'train'), ('scene0487_01', 'train'), ('scene0051_01', 'train'), ('scene0383_00', 'train'), ('scene0441_00', 'train'), ('scene0694_01', 'train'), ('scene0618_00', 'train'), ('scene0412_00', 'train'), ('scene0670_00', 'train'), ('scene0432_00', 'train'), ('scene0484_00', 'train'), ('scene0430_01', 'train'), ('scene0466_01', 'train'), ('scene0540_01', 'train'), ('scene0039_00', 'train'), ('scene0528_01', 'train'), ('scene0480_01', 'train'), ('scene0150_01', 'train'), ('scene0070_00', 'train'), ('scene0283_00', 'train'), ('scene0474_00', 'train'), ('scene0122_01', 'train'), ('scene0204_00', 'train'), ('scene0613_02', 'train'), ('scene0567_01', 'train'), ('scene0506_00', 'train'), ('scene0051_03', 'train'), ('scene0663_01', 'train'), ('scene0142_01', 'train'), ('scene0588_01', 'train'), ('scene0297_01', 'train'), ('scene0009_01', 'train'), ('scene0548_00', 'train'), ('scene0325_01', 'train'), ('scene0416_00', 'train'), ('scene0353_00', 'train'), ('scene0370_02', 'train'), ('scene0524_01', 'train'), ('scene0155_02', 'train'), ('scene0411_01', 'train'), ('scene0085_01', 'train'), ('scene0523_02', 'train'), ('scene0448_02', 'train'), ('scene0125_00', 'train'), ('scene0081_00', 'train'), ('scene0512_00', 'train'), ('scene0030_02', 'train'), ('scene0322_00', 'train'), ('scene0679_00', 'train'), ('scene0301_01', 'train'), ('scene0408_00', 'train'), ('scene0600_00', 'train'), ('scene0440_01', 'train'), ('scene0033_00', 'train'), ('scene0692_00', 'train'), ('scene0075_00', 'train'), ('scene0583_01', 'train'), ('scene0294_02', 'train'), ('scene0143_01', 'train'), ('scene0392_00', 'train'), ('scene0597_01', 'train'), ('scene0702_00', 'train'), ('scene0293_01', 'train'), ('scene0500_01', 'train'), ('scene0677_01', 'train'), ('scene0562_00', 'train'), ('scene0468_02', 'train'), ('scene0132_02', 'train'), ('scene0080_01', 'train'), ('scene0474_03', 'train'), ('scene0492_01', 'train'), ('scene0635_01', 'train'), ('scene0588_03', 'train'), ('scene0135_00', 'train'), ('scene0100_02', 'train'), ('scene0525_00', 'train'), ('scene0508_00', 'train'), ('scene0697_00', 'train'), ('scene0531_00', 'train'), ('scene0590_00', 'train'), ('scene0511_01', 'train'), ('scene0120_01', 'train'), ('scene0028_00', 'train'), ('scene0515_01', 'train'), ('scene0455_00', 'train'), ('scene0699_00', 'train'), ('scene0653_01', 'train'), ('scene0610_02', 'train'), ('scene0006_00', 'train'), ('scene0549_00', 'train'), ('scene0406_02', 'train'), ('scene0123_01', 'train'), ('scene0358_00', 'train'), ('scene0491_00', 'train'), ('scene0203_02', 'train'), ('scene0027_00', 'train'), ('scene0270_02', 'train'), ('scene0658_00', 'train'), ('scene0309_01', 'train'), ('scene0209_00', 'train'), ('scene0627_00', 'train'), ('scene0302_01', 'train'), ('scene0236_00', 'train'), ('scene0264_02', 'train'), ('scene0474_05', 'train'), ('scene0121_01', 'train'), ('scene0664_00', 'train'), ('scene0695_02', 'train'), ('scene0416_04', 'train'), ('scene0480_00', 'train'), ('scene0052_02', 'train'), ('scene0008_00', 'train'), ('scene0029_00', 'train'), ('scene0220_02', 'train'), ('scene0197_02', 'train'), ('scene0541_02', 'train'), ('scene0239_00', 'train'), ('scene0693_02', 'train'), ('scene0304_00', 'train'), ('scene0250_01', 'train'), ('scene0509_01', 'train'), ('scene0481_00', 'train'), ('scene0209_01', 'train'), ('scene0546_00', 'train'), ('scene0074_01', 'train'), ('scene0095_01', 'train'), ('scene0268_01', 'train'), ('scene0577_00', 'train'), ('scene0611_00', 'train'), ('scene0065_00', 'train'), ('scene0148_00', 'train'), ('scene0098_00', 'train'), ('scene0702_02', 'train'), ('scene0689_00', 'train'), ('scene0017_00', 'train'), ('scene0299_01', 'train'), ('scene0384_00', 'train'), ('scene0695_03', 'train'), ('scene0305_00', 'train'), ('scene0288_02', 'train'), ('scene0085_00', 'train'), ('scene0621_00', 'train'), ('scene0086_02', 'train'), ('scene0361_01', 'train'), ('scene0051_02', 'train'), ('scene0025_01', 'train'), ('scene0076_00', 'train'), ('scene0052_00', 'train'), ('scene0239_02', 'train'), ('scene0705_01', 'train'), ('scene0011_01', 'train'), ('scene0255_01', 'train'), ('scene0552_00', 'train'), ('scene0288_00', 'train'), ('scene0082_00', 'train'), ('scene0041_00', 'train'), ('scene0072_02', 'train'), ('scene0573_00', 'train'), ('scene0386_00', 'train'), ('scene0137_01', 'train'), ('scene0002_01', 'train'), ('scene0251_00', 'train'), ('scene0585_01', 'train'), ('scene0705_02', 'train'), ('scene0693_00', 'train'), ('scene0253_00', 'train'), ('scene0638_00', 'train'), ('scene0656_01', 'train'), ('scene0694_00', 'train'), ('scene0100_01', 'train'), ('scene0089_00', 'train'), ('scene0092_02', 'train'), ('scene0324_00', 'train'), ('scene0366_00', 'train'), ('scene0029_02', 'train'), ('scene0547_01', 'train'), ('scene0498_02', 'train'), ('scene0083_01', 'train'), ('scene0332_02', 'train'), ('scene0501_02', 'train'), ('scene0646_00', 'train'), ('scene0269_02', 'train'), ('scene0112_00', 'train'), ('scene0049_00', 'train'), ('scene0032_00', 'train'), ('scene0382_00', 'train'), ('scene0397_00', 'train'), ('scene0477_01', 'train'), ('scene0155_01', 'train'), ('scene0362_03', 'train'), ('scene0360_00', 'train'), ('scene0700_00', 'train'), ('scene0056_01', 'train'), ('scene0024_00', 'train'), ('scene0016_02', 'train'), ('scene0020_01', 'train'), ('scene0368_00', 'train'), ('scene0088_00', 'train'), ('scene0473_00', 'train'), ('scene0181_01', 'train'), ('scene0092_00', 'train'), ('scene0613_01', 'train'), ('scene0481_01', 'train'), ('scene0127_00', 'train'), ('scene0489_01', 'train'), ('scene0272_01', 'train'), ('scene0338_00', 'train'), ('scene0165_01', 'train'), ('scene0160_01', 'train'), ('scene0338_02', 'train'), ('scene0051_00', 'train'), ('scene0332_00', 'train'), ('scene0267_00', 'train'), ('scene0160_03', 'train'), ('scene0655_00', 'train'), ('scene0427_00', 'train'), ('scene0110_02', 'train'), ('scene0241_02', 'train'), ('scene0395_02', 'train'), ('scene0605_01', 'train'), ('scene0605_00', 'train'), ('scene0626_02', 'train'), ('scene0509_00', 'train'), ('scene0024_02', 'train'), ('scene0061_00', 'train'), ('scene0493_00', 'train'), ('scene0541_00', 'train'), ('scene0340_01', 'train'), ('scene0668_00', 'train'), ('scene0045_01', 'train'), ('scene0050_01', 'train'), ('scene0236_01', 'train'), ('scene0131_00', 'train'), ('scene0312_00', 'train'), ('scene0536_01', 'train'), ('scene0575_02', 'train'), ('scene0292_00', 'train'), ('scene0380_01', 'train'), ('scene0166_00', 'train'), ('scene0474_02', 'train'), ('scene0444_01', 'train'), ('scene0247_01', 'train'), ('scene0229_02', 'train'), ('scene0482_00', 'train'), ('scene0089_02', 'train'), ('scene0390_00', 'train'), ('scene0073_01', 'train'), ('scene0686_00', 'train'), ('scene0347_01', 'train'), ('scene0499_00', 'train'), ('scene0160_00', 'train'), ('scene0073_02', 'train'), ('scene0442_00', 'train'), ('scene0317_01', 'train'), ('scene0338_01', 'train'), ('scene0280_01', 'train'), ('scene0090_00', 'train'), ('scene0448_00', 'train'), ('scene0677_00', 'train'), ('scene0703_01', 'train'), ('scene0625_00', 'train'), ('scene0351_01', 'train'), ('scene0387_01', 'train'), ('scene0193_00', 'train'), ('scene0582_00', 'train'), ('scene0245_00', 'train'), ('scene0260_01', 'train'), ('scene0233_01', 'train'), ('scene0218_00', 'train'), ('scene0306_00', 'train'), ('scene0614_02', 'train'), ('scene0651_00', 'train'), ('scene0343_00', 'train'), ('scene0099_00', 'train')]\n"
     ]
    },
    {
     "ename": "AssertionError",
     "evalue": "",
     "output_type": "error",
     "traceback": [
      "\u001b[0;31m---------------------------------------------------------------------------\u001b[0m",
      "\u001b[0;31mRemoteTraceback\u001b[0m                           Traceback (most recent call last)",
      "\u001b[0;31mRemoteTraceback\u001b[0m: \n\"\"\"\nTraceback (most recent call last):\n  File \"/home/chengshun.wang/miniconda3/envs/semray/lib/python3.10/multiprocessing/pool.py\", line 125, in worker\n    result = (True, func(*args, **kwds))\n  File \"/home/chengshun.wang/miniconda3/envs/semray/lib/python3.10/multiprocessing/pool.py\", line 51, in starmapstar\n    return list(itertools.starmap(args[0], args[1]))\n  File \"/tmp/ipykernel_2689282/1032325063.py\", line 7, in prepare_dataset_by_id\n    assert len(rgb_paths) == len(ano_paths)\nAssertionError\n\"\"\"",
      "\nThe above exception was the direct cause of the following exception:\n",
      "\u001b[0;31mAssertionError\u001b[0m                            Traceback (most recent call last)",
      "Cell \u001b[0;32mIn[9], line 9\u001b[0m\n\u001b[1;32m      7\u001b[0m input_data \u001b[38;5;241m=\u001b[39m \u001b[38;5;28mlist\u001b[39m(\u001b[38;5;28mzip\u001b[39m(files,[split]\u001b[38;5;241m*\u001b[39m\u001b[38;5;28mlen\u001b[39m(files)))\n\u001b[1;32m      8\u001b[0m \u001b[38;5;28mprint\u001b[39m(input_data)\n\u001b[0;32m----> 9\u001b[0m results \u001b[38;5;241m=\u001b[39m \u001b[43mpool\u001b[49m\u001b[38;5;241;43m.\u001b[39;49m\u001b[43mstarmap\u001b[49m\u001b[43m(\u001b[49m\u001b[43mprepare_dataset_by_id\u001b[49m\u001b[43m,\u001b[49m\u001b[43m \u001b[49m\u001b[43minput_data\u001b[49m\u001b[43m)\u001b[49m\n",
      "File \u001b[0;32m~/miniconda3/envs/semray/lib/python3.10/multiprocessing/pool.py:375\u001b[0m, in \u001b[0;36mPool.starmap\u001b[0;34m(self, func, iterable, chunksize)\u001b[0m\n\u001b[1;32m    369\u001b[0m \u001b[38;5;28;01mdef\u001b[39;00m \u001b[38;5;21mstarmap\u001b[39m(\u001b[38;5;28mself\u001b[39m, func, iterable, chunksize\u001b[38;5;241m=\u001b[39m\u001b[38;5;28;01mNone\u001b[39;00m):\n\u001b[1;32m    370\u001b[0m \u001b[38;5;250m    \u001b[39m\u001b[38;5;124;03m'''\u001b[39;00m\n\u001b[1;32m    371\u001b[0m \u001b[38;5;124;03m    Like `map()` method but the elements of the `iterable` are expected to\u001b[39;00m\n\u001b[1;32m    372\u001b[0m \u001b[38;5;124;03m    be iterables as well and will be unpacked as arguments. Hence\u001b[39;00m\n\u001b[1;32m    373\u001b[0m \u001b[38;5;124;03m    `func` and (a, b) becomes func(a, b).\u001b[39;00m\n\u001b[1;32m    374\u001b[0m \u001b[38;5;124;03m    '''\u001b[39;00m\n\u001b[0;32m--> 375\u001b[0m     \u001b[38;5;28;01mreturn\u001b[39;00m \u001b[38;5;28;43mself\u001b[39;49m\u001b[38;5;241;43m.\u001b[39;49m\u001b[43m_map_async\u001b[49m\u001b[43m(\u001b[49m\u001b[43mfunc\u001b[49m\u001b[43m,\u001b[49m\u001b[43m \u001b[49m\u001b[43miterable\u001b[49m\u001b[43m,\u001b[49m\u001b[43m \u001b[49m\u001b[43mstarmapstar\u001b[49m\u001b[43m,\u001b[49m\u001b[43m \u001b[49m\u001b[43mchunksize\u001b[49m\u001b[43m)\u001b[49m\u001b[38;5;241;43m.\u001b[39;49m\u001b[43mget\u001b[49m\u001b[43m(\u001b[49m\u001b[43m)\u001b[49m\n",
      "File \u001b[0;32m~/miniconda3/envs/semray/lib/python3.10/multiprocessing/pool.py:774\u001b[0m, in \u001b[0;36mApplyResult.get\u001b[0;34m(self, timeout)\u001b[0m\n\u001b[1;32m    772\u001b[0m     \u001b[38;5;28;01mreturn\u001b[39;00m \u001b[38;5;28mself\u001b[39m\u001b[38;5;241m.\u001b[39m_value\n\u001b[1;32m    773\u001b[0m \u001b[38;5;28;01melse\u001b[39;00m:\n\u001b[0;32m--> 774\u001b[0m     \u001b[38;5;28;01mraise\u001b[39;00m \u001b[38;5;28mself\u001b[39m\u001b[38;5;241m.\u001b[39m_value\n",
      "\u001b[0;31mAssertionError\u001b[0m: "
     ]
    }
   ],
   "source": [
    "# for split in ['train','val','test']:\n",
    "for split in ['train']:\n",
    "    with Pool(processes=32) as pool:\n",
    "        # for scene_id in split2file_list[split]:\n",
    "        #     input_data = [scene_id,split]\n",
    "        files = split2file_list[split]\n",
    "        input_data = list(zip(files,[split]*len(files)))\n",
    "        print(input_data)\n",
    "        results = pool.starmap(prepare_dataset_by_id, input_data)"
   ]
  },
  {
   "cell_type": "code",
   "execution_count": 133,
   "id": "b8fec757-8af8-4a55-a9b3-2ce02ff389aa",
   "metadata": {},
   "outputs": [],
   "source": [
    "path = '/mnt/data/chengshun.wang/scannet_2d/img_dir/train'\n",
    "for i in os.listdir(path):\n",
    "    img = np.asarray(Image.open(os.path.join(path,i)))\n",
    "    assert img.shape == (240,320,3),f\"img.shape\""
   ]
  },
  {
   "cell_type": "code",
   "execution_count": 90,
   "id": "2550c8cf-b558-4720-9c6f-176471ce01c1",
   "metadata": {},
   "outputs": [],
   "source": []
  },
  {
   "cell_type": "code",
   "execution_count": 111,
   "id": "121a563f-2153-4047-94ca-6d50d4a6f768",
   "metadata": {},
   "outputs": [
    {
     "data": {
      "text/plain": [
       "313591"
      ]
     },
     "execution_count": 111,
     "metadata": {},
     "output_type": "execute_result"
    }
   ],
   "source": [
    "len(os.listdir('/mnt/data/chengshun.wang/scannet_2d/ann_dir/train'))"
   ]
  },
  {
   "cell_type": "code",
   "execution_count": 112,
   "id": "346f2c4c-679e-462a-9461-f0aa44529f83",
   "metadata": {},
   "outputs": [
    {
     "data": {
      "text/plain": [
       "5089"
      ]
     },
     "execution_count": 112,
     "metadata": {},
     "output_type": "execute_result"
    }
   ],
   "source": [
    "len(os.listdir('/mnt/data/chengshun.wang/scannet_2d/ann_dir/val'))"
   ]
  },
  {
   "cell_type": "code",
   "execution_count": 113,
   "id": "b1ebf934-e20e-472e-b753-d151ffa06268",
   "metadata": {},
   "outputs": [
    {
     "data": {
      "text/plain": [
       "13224"
      ]
     },
     "execution_count": 113,
     "metadata": {},
     "output_type": "execute_result"
    }
   ],
   "source": [
    "len(os.listdir('/mnt/data/chengshun.wang/scannet_2d/ann_dir/test'))"
   ]
  },
  {
   "cell_type": "code",
   "execution_count": 95,
   "id": "a02e55ed-85bb-443e-b6a7-700f7a398082",
   "metadata": {},
   "outputs": [
    {
     "name": "stdout",
     "output_type": "stream",
     "text": [
      "\u001b[0m\u001b[01;35mscene0160_00_0.jpg\u001b[0m  \u001b[01;35mscene0160_00_637.jpg\u001b[0m\n"
     ]
    }
   ],
   "source": [
    "ls /mnt/data/chengshun.wang/scannet_2d/img_dir/test"
   ]
  },
  {
   "cell_type": "code",
   "execution_count": 94,
   "id": "e5a62cd9-2ac2-4497-bed7-153935fff40c",
   "metadata": {},
   "outputs": [
    {
     "name": "stdout",
     "output_type": "stream",
     "text": [
      "test  train  val\n"
     ]
    }
   ],
   "source": [
    "!ls /mnt/data/chengshun.wang/scannet_2d/ann_dir/"
   ]
  },
  {
   "cell_type": "code",
   "execution_count": 60,
   "id": "beb590cc-5307-4575-a25b-07dfd66f54ff",
   "metadata": {},
   "outputs": [],
   "source": [
    "data = np.random.randint(0,100,(10,10),dtype=np.uint8)"
   ]
  },
  {
   "cell_type": "code",
   "execution_count": 61,
   "id": "bfc3d92f-7777-4868-b6ac-12b4b12f83fc",
   "metadata": {},
   "outputs": [],
   "source": [
    "Image.fromarray(data, mode='L').save('test.png')"
   ]
  },
  {
   "cell_type": "code",
   "execution_count": 62,
   "id": "11babdf7-0b38-4b0f-8b63-7f4aa7df959e",
   "metadata": {},
   "outputs": [],
   "source": [
    "data_load = Image.open('test.png')"
   ]
  },
  {
   "cell_type": "code",
   "execution_count": 66,
   "id": "423d6247-780e-42b2-8e7c-ee029a9da93b",
   "metadata": {},
   "outputs": [],
   "source": [
    "data_load = np.asarray(data_load,dtype=np.int32)"
   ]
  },
  {
   "cell_type": "code",
   "execution_count": 67,
   "id": "82cbc501-c4ef-4742-b0f4-3311231aa1b3",
   "metadata": {},
   "outputs": [
    {
     "data": {
      "text/plain": [
       "array([[38, 36, 49, 37, 43, 98, 35, 35, 95, 18],\n",
       "       [49, 73, 13, 22, 12, 90, 44, 26, 26, 33],\n",
       "       [ 9, 18, 72, 66, 12, 87, 19, 64, 19, 10],\n",
       "       [72, 96, 22, 91, 85, 50, 51, 37, 16, 62],\n",
       "       [71, 42, 68, 13, 50, 88, 55, 30, 21, 89],\n",
       "       [ 3, 42, 88, 78, 75, 37, 85, 50, 35, 36],\n",
       "       [54,  4, 44,  2, 81, 12, 17, 88, 63, 74],\n",
       "       [63, 49, 72, 87, 68,  8, 26, 61, 21, 24],\n",
       "       [38, 38, 72,  1, 48, 15, 42, 75, 49, 69],\n",
       "       [61, 14, 54, 94, 41, 34, 52, 97, 40, 36]], dtype=int32)"
      ]
     },
     "execution_count": 67,
     "metadata": {},
     "output_type": "execute_result"
    }
   ],
   "source": [
    "data_load"
   ]
  },
  {
   "cell_type": "code",
   "execution_count": 68,
   "id": "28b13866-083e-464b-8f5e-696537e87455",
   "metadata": {},
   "outputs": [
    {
     "data": {
      "text/plain": [
       "array([[38, 36, 49, 37, 43, 98, 35, 35, 95, 18],\n",
       "       [49, 73, 13, 22, 12, 90, 44, 26, 26, 33],\n",
       "       [ 9, 18, 72, 66, 12, 87, 19, 64, 19, 10],\n",
       "       [72, 96, 22, 91, 85, 50, 51, 37, 16, 62],\n",
       "       [71, 42, 68, 13, 50, 88, 55, 30, 21, 89],\n",
       "       [ 3, 42, 88, 78, 75, 37, 85, 50, 35, 36],\n",
       "       [54,  4, 44,  2, 81, 12, 17, 88, 63, 74],\n",
       "       [63, 49, 72, 87, 68,  8, 26, 61, 21, 24],\n",
       "       [38, 38, 72,  1, 48, 15, 42, 75, 49, 69],\n",
       "       [61, 14, 54, 94, 41, 34, 52, 97, 40, 36]], dtype=uint8)"
      ]
     },
     "execution_count": 68,
     "metadata": {},
     "output_type": "execute_result"
    }
   ],
   "source": [
    "data"
   ]
  },
  {
   "cell_type": "code",
   "execution_count": 69,
   "id": "7db5ec1e-3507-4d0a-b4e0-fdd5d7ccc0bf",
   "metadata": {},
   "outputs": [
    {
     "data": {
      "text/plain": [
       "103"
      ]
     },
     "execution_count": 69,
     "metadata": {},
     "output_type": "execute_result"
    }
   ],
   "source": [
    "np.asarray(Image.open('data/scannet/scene0000_00/label-filt/100.png'), dtype=np.int32).max()"
   ]
  },
  {
   "cell_type": "code",
   "execution_count": 41,
   "id": "b17b823c-040a-4f9a-9071-c484207cb7d0",
   "metadata": {},
   "outputs": [],
   "source": [
    "from PIL import Image\n",
    "import numpy as np\n",
    "\n",
    "# 创建形状为(100, 100, 1)的示例语义分割图\n",
    "semantic_segmentation_tensor = np.random.randint(0, 256, size=(100, 100, 1), dtype=np.uint8)\n",
    "\n",
    "# 将numpy数组转换为PIL图像\n",
    "semantic_segmentation_image = Image.fromarray(semantic_segmentation_tensor.squeeze(), mode='L')\n",
    "\n",
    "# 保存PIL图像为PNG文件\n",
    "semantic_segmentation_image.save('semantic_segmentation.png')"
   ]
  },
  {
   "cell_type": "code",
   "execution_count": 42,
   "id": "7a167bf7-a876-4553-a90a-4ce6ac9b46a4",
   "metadata": {},
   "outputs": [],
   "source": [
    "loaded_image = Image.open('semantic_segmentation.png')\n",
    "\n",
    "# 将加载的图像转换为NumPy数组\n",
    "loaded_semantic_segmentation_tensor = np.array(loaded_image)\n",
    "\n",
    "# 如果需要将通道数恢复为 1（从灰度图像中加载）\n",
    "if len(loaded_semantic_segmentation_tensor.shape) == 2:\n",
    "    loaded_semantic_segmentation_tensor = loaded_semantic_segmentation_tensor[:, :, np.newaxis]"
   ]
  },
  {
   "cell_type": "code",
   "execution_count": 44,
   "id": "eeec6e43-bf88-43a2-8a83-0bdd9c48632a",
   "metadata": {},
   "outputs": [
    {
     "data": {
      "text/plain": [
       "array([  1, 227,  13, ..., 182, 205,  33], dtype=uint8)"
      ]
     },
     "execution_count": 44,
     "metadata": {},
     "output_type": "execute_result"
    }
   ],
   "source": [
    "semantic_segmentation_tensor.flatten()"
   ]
  },
  {
   "cell_type": "code",
   "execution_count": 45,
   "id": "17235f7b-623e-4d0a-b882-0ce6aa56337a",
   "metadata": {},
   "outputs": [
    {
     "data": {
      "text/plain": [
       "array([  1, 227,  13, ..., 182, 205,  33], dtype=uint8)"
      ]
     },
     "execution_count": 45,
     "metadata": {},
     "output_type": "execute_result"
    }
   ],
   "source": [
    "loaded_semantic_segmentation_tensor.flatten()"
   ]
  },
  {
   "cell_type": "code",
   "execution_count": 71,
   "id": "d30b18d4-5e52-4c64-b347-83c5428b56d5",
   "metadata": {},
   "outputs": [
    {
     "data": {
      "text/plain": [
       "'111zzz.png'"
      ]
     },
     "execution_count": 71,
     "metadata": {},
     "output_type": "execute_result"
    }
   ],
   "source": [
    "str(111)+os.path.basename('xxx/yyy/zzz.png')"
   ]
  },
  {
   "cell_type": "code",
   "execution_count": 72,
   "id": "a2f7e2d3-27a3-4c54-97b9-f8071fe88bf6",
   "metadata": {},
   "outputs": [
    {
     "data": {
      "text/plain": [
       "array([[38, 36, 49, 37, 43, 98, 35, 35, 95, 18],\n",
       "       [49, 73, 13, 22, 12, 90, 44, 26, 26, 33],\n",
       "       [ 9, 18, 72, 66, 12, 87, 19, 64, 19, 10],\n",
       "       [72, 96, 22, 91, 85, 50, 51, 37, 16, 62],\n",
       "       [71, 42, 68, 13, 50, 88, 55, 30, 21, 89],\n",
       "       [ 3, 42, 88, 78, 75, 37, 85, 50, 35, 36],\n",
       "       [54,  4, 44,  2, 81, 12, 17, 88, 63, 74],\n",
       "       [63, 49, 72, 87, 68,  8, 26, 61, 21, 24],\n",
       "       [38, 38, 72,  1, 48, 15, 42, 75, 49, 69],\n",
       "       [61, 14, 54, 94, 41, 34, 52, 97, 40, 36]], dtype=uint8)"
      ]
     },
     "execution_count": 72,
     "metadata": {},
     "output_type": "execute_result"
    }
   ],
   "source": [
    "data.astype('uint8')"
   ]
  },
  {
   "cell_type": "code",
   "execution_count": 87,
   "id": "b2f525ce-753c-435b-9973-fe1d2b727fb5",
   "metadata": {},
   "outputs": [
    {
     "data": {
      "text/plain": [
       "[1, 3, 12, 22]"
      ]
     },
     "execution_count": 87,
     "metadata": {},
     "output_type": "execute_result"
    }
   ],
   "source": [
    "sorted([1,22,12,3])"
   ]
  },
  {
   "cell_type": "code",
   "execution_count": 117,
   "id": "0c412dc8-83f0-48f6-8d30-13c3b76de78d",
   "metadata": {},
   "outputs": [
    {
     "data": {
      "text/plain": [
       "255"
      ]
     },
     "execution_count": 117,
     "metadata": {},
     "output_type": "execute_result"
    }
   ],
   "source": [
    "imread('/home/chengshun.wang/pjs/Semantic-Ray/data/scannet/scene0000_00/color/0.jpg').max()"
   ]
  },
  {
   "cell_type": "code",
   "execution_count": null,
   "id": "a34b22f0-f05e-47ef-bf82-c55634016bea",
   "metadata": {},
   "outputs": [],
   "source": []
  },
  {
   "cell_type": "code",
   "execution_count": null,
   "id": "e010871a-074a-472a-9bcc-3a6b5e8e2302",
   "metadata": {},
   "outputs": [],
   "source": []
  },
  {
   "cell_type": "code",
   "execution_count": null,
   "id": "91af205a-c82f-4661-8523-a7cce801dfb6",
   "metadata": {},
   "outputs": [],
   "source": []
  }
 ],
 "metadata": {
  "kernelspec": {
   "display_name": "Python 3 (ipykernel)",
   "language": "python",
   "name": "python3"
  },
  "language_info": {
   "codemirror_mode": {
    "name": "ipython",
    "version": 3
   },
   "file_extension": ".py",
   "mimetype": "text/x-python",
   "name": "python",
   "nbconvert_exporter": "python",
   "pygments_lexer": "ipython3",
   "version": "3.10.13"
  }
 },
 "nbformat": 4,
 "nbformat_minor": 5
}
