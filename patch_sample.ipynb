{
 "cells": [
  {
   "cell_type": "code",
   "execution_count": 7,
   "id": "e49b64ba-ff99-4a50-be56-0c3110fabfd5",
   "metadata": {},
   "outputs": [],
   "source": [
    "import torch\n",
    "import numpy as np\n",
    "from nerfstudio.data.pixel_samplers import PatchPixelSampler,PatchPixelSamplerConfig"
   ]
  },
  {
   "cell_type": "code",
   "execution_count": 12,
   "id": "ec2857b3-9ee9-457b-8b9c-26bc5f03c0f6",
   "metadata": {},
   "outputs": [],
   "source": [
    "sampler = PatchPixelSampler(\n",
    "    PatchPixelSamplerConfig(patch_size=16)\n",
    ")"
   ]
  },
  {
   "cell_type": "code",
   "execution_count": 75,
   "id": "d8a38573-57b8-4721-be10-44c7ad6440ee",
   "metadata": {},
   "outputs": [],
   "source": [
    "def sample_method(\n",
    "        patch_size,\n",
    "        batch_size,\n",
    "        image_height,\n",
    "        image_width,\n",
    "        mask= None,\n",
    "        device= \"cpu\",\n",
    "    ):\n",
    "    if isinstance(mask, torch.Tensor):\n",
    "        sub_bs = batch_size // (patch_size[0]*patch_size[1])\n",
    "        half_patch_size = [int(patch_size[0] / 2),int(patch_size[1] / 2)]\n",
    "        m = erode_mask(mask.permute(0, 3, 1, 2).float(), pixel_radius=half_patch_size)\n",
    "        nonzero_indices = torch.nonzero(m[:, 0], as_tuple=False).to(device)\n",
    "        chosen_indices = random.sample(range(len(nonzero_indices)), k=sub_bs)\n",
    "        indices = nonzero_indices[chosen_indices]\n",
    "    \n",
    "        indices = (\n",
    "            indices.view(sub_bs, 1, 1, 2)\n",
    "            .broadcast_to(sub_bs, patch_size[0], patch_size[1], 2)\n",
    "            .clone()\n",
    "        )\n",
    "    \n",
    "        yys, xxs = torch.meshgrid(\n",
    "            torch.arange(patch_size[0], device=device), torch.arange(patch_size[1], device=device)\n",
    "        )\n",
    "        indices[:, ..., 0] += yys - half_patch_size[0]\n",
    "        indices[:, ..., 1] += xxs - half_patch_size[1]\n",
    "    \n",
    "        indices = torch.floor(indices).long()\n",
    "        indices = indices.flatten(0, 2)\n",
    "    else:\n",
    "        half_patch_size = torch.tensor([int(patch_size[0] / 2),int(patch_size[1] / 2)],device=device)\n",
    "        sub_bs = batch_size // (patch_size[0]*patch_size[1])\n",
    "        indices = torch.rand((sub_bs, 2), device=device) * torch.tensor(\n",
    "            [image_height , image_width],\n",
    "            device=device,\n",
    "        )+half_patch_size[None]\n",
    "        indices = torch.clamp(indices,max=torch.tensor([image_height,image_width])) \n",
    "        indices = indices - torch.tensor([patch_size[0],patch_size[1]], device=device)[None]\n",
    "        indices = torch.clamp(indices,min=torch.tensor([0,0])) \n",
    "        indices = (\n",
    "            indices.view(sub_bs, 1, 1, 2)\n",
    "            .broadcast_to(sub_bs, patch_size[0], patch_size[1], 2)\n",
    "            .clone()\n",
    "        )\n",
    "    \n",
    "        yys, xxs = torch.meshgrid(\n",
    "            torch.arange(patch_size[0], device=device), torch.arange(patch_size[1], device=device)\n",
    "        )\n",
    "        indices[:, ..., 0] += yys\n",
    "        indices[:, ..., 1] += xxs\n",
    "    \n",
    "        indices = torch.floor(indices).long()\n",
    "        indices = indices.flatten(0, 2)\n",
    "    \n",
    "    return indices"
   ]
  },
  {
   "cell_type": "code",
   "execution_count": 76,
   "id": "35d1d74b-2c3a-41d8-ae16-a27af546e337",
   "metadata": {},
   "outputs": [],
   "source": []
  },
  {
   "cell_type": "code",
   "execution_count": 83,
   "id": "3bf63388-eefc-47d1-8034-b3b2076b6849",
   "metadata": {},
   "outputs": [
    {
     "data": {
      "text/plain": [
       "4"
      ]
     },
     "execution_count": 83,
     "metadata": {},
     "output_type": "execute_result"
    }
   ],
   "source": [
    " (patch_size[0]*patch_size[1])"
   ]
  },
  {
   "cell_type": "code",
   "execution_count": 87,
   "id": "60e77bda-72de-402c-9df3-3a8e22415d25",
   "metadata": {
    "scrolled": true
   },
   "outputs": [],
   "source": [
    "patch_size = (4,4)\n",
    "image_height =4 \n",
    "image_width = 4\n",
    "batch_size = 4*4\n",
    "ind = sample_method(\n",
    "        patch_size,\n",
    "        batch_size,\n",
    "        image_height,\n",
    "        image_width)\n",
    "ind = ind.reshape((ind.shape[0]//patch_size[0]//patch_size[1],patch_size[0],patch_size[1],2))"
   ]
  },
  {
   "cell_type": "code",
   "execution_count": 88,
   "id": "81d52172-0a38-4c73-b3b6-ad671040b18a",
   "metadata": {},
   "outputs": [
    {
     "data": {
      "text/plain": [
       "tensor([[[[0, 0],\n",
       "          [0, 1],\n",
       "          [0, 2],\n",
       "          [0, 3]],\n",
       "\n",
       "         [[1, 0],\n",
       "          [1, 1],\n",
       "          [1, 2],\n",
       "          [1, 3]],\n",
       "\n",
       "         [[2, 0],\n",
       "          [2, 1],\n",
       "          [2, 2],\n",
       "          [2, 3]],\n",
       "\n",
       "         [[3, 0],\n",
       "          [3, 1],\n",
       "          [3, 2],\n",
       "          [3, 3]]]])"
      ]
     },
     "execution_count": 88,
     "metadata": {},
     "output_type": "execute_result"
    }
   ],
   "source": [
    "ind"
   ]
  },
  {
   "cell_type": "code",
   "execution_count": 73,
   "id": "21a75dcf-eb00-41f7-a3cc-f32aa2590496",
   "metadata": {},
   "outputs": [
    {
     "data": {
      "text/plain": [
       "tensor([[  0, -24],\n",
       "        [  0, -23],\n",
       "        [  0, -22],\n",
       "        ...,\n",
       "        [239, 293],\n",
       "        [239, 294],\n",
       "        [239, 295]])"
      ]
     },
     "execution_count": 73,
     "metadata": {},
     "output_type": "execute_result"
    }
   ],
   "source": [
    "ind[0].flatten(0,1)"
   ]
  },
  {
   "cell_type": "code",
   "execution_count": null,
   "id": "56a19a02-1e13-4d97-b8c5-dcca3029bb32",
   "metadata": {},
   "outputs": [],
   "source": [
    "ind = sample_method(\n",
    "        patch_size = 32,\n",
    "        batch_size = 240*320,\n",
    "        image_height = 240,\n",
    "        image_width = 320)"
   ]
  },
  {
   "cell_type": "code",
   "execution_count": 36,
   "id": "657f6135-6e6c-4f56-bb04-f32813f2e36b",
   "metadata": {},
   "outputs": [
    {
     "data": {
      "text/plain": [
       "tensor([[ 1,  2,  3,  4],\n",
       "        [ 5,  6,  7,  8],\n",
       "        [ 9, 10, 11, 12],\n",
       "        [13, 14, 15, 16]])"
      ]
     },
     "execution_count": 36,
     "metadata": {},
     "output_type": "execute_result"
    }
   ],
   "source": [
    "data = torch.tensor([[1,2,3,4],[5,6,7,8],[9,10,11,12],[13,14,15,16]])\n",
    "data"
   ]
  },
  {
   "cell_type": "code",
   "execution_count": 22,
   "id": "ff018b3d-000a-4cc9-a3df-971fe96c03c1",
   "metadata": {},
   "outputs": [
    {
     "data": {
      "text/plain": [
       "tensor([[[[ 1,  2],\n",
       "          [ 5,  6]],\n",
       "\n",
       "         [[ 3,  4],\n",
       "          [ 7,  8]],\n",
       "\n",
       "         [[ 9, 10],\n",
       "          [13, 14]],\n",
       "\n",
       "         [[11, 12],\n",
       "          [15, 16]]]])"
      ]
     },
     "execution_count": 22,
     "metadata": {},
     "output_type": "execute_result"
    }
   ],
   "source": [
    "h =4\n",
    "w =4\n",
    "pw = 2\n",
    "data.reshape((1,h//pw,pw,w//pw,pw)).permute(0,1,3,2,4).reshape((1,-1,pw,pw))"
   ]
  },
  {
   "cell_type": "code",
   "execution_count": 62,
   "id": "41599bba-728f-45e1-9853-4ebb18a9a899",
   "metadata": {},
   "outputs": [
    {
     "data": {
      "text/plain": [
       "tensor([[ 50, 100]])"
      ]
     },
     "execution_count": 62,
     "metadata": {},
     "output_type": "execute_result"
    }
   ],
   "source": [
    "torch.clamp(torch.tensor([[100,100]]),max=torch.tensor([50,100]))"
   ]
  },
  {
   "cell_type": "code",
   "execution_count": null,
   "id": "8dc5a82f-add5-4035-962c-0ff2dd7b985c",
   "metadata": {},
   "outputs": [],
   "source": []
  },
  {
   "cell_type": "code",
   "execution_count": null,
   "id": "05ed8aec-9888-46d3-8b78-15e503cc1e4a",
   "metadata": {},
   "outputs": [],
   "source": []
  },
  {
   "cell_type": "code",
   "execution_count": null,
   "id": "0fa4bf48-9c1c-432b-ae5c-dcca6d5da441",
   "metadata": {},
   "outputs": [],
   "source": []
  }
 ],
 "metadata": {
  "kernelspec": {
   "display_name": "Python 3 (ipykernel)",
   "language": "python",
   "name": "python3"
  },
  "language_info": {
   "codemirror_mode": {
    "name": "ipython",
    "version": 3
   },
   "file_extension": ".py",
   "mimetype": "text/x-python",
   "name": "python",
   "nbconvert_exporter": "python",
   "pygments_lexer": "ipython3",
   "version": "3.10.13"
  }
 },
 "nbformat": 4,
 "nbformat_minor": 5
}
