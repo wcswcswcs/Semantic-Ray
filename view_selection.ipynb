{
 "cells": [
  {
   "cell_type": "code",
   "execution_count": 63,
   "id": "57d9bf9c-ecd9-4034-ae55-ba6d39504b35",
   "metadata": {},
   "outputs": [],
   "source": [
    "import numpy as np\n",
    "import torch"
   ]
  },
  {
   "cell_type": "code",
   "execution_count": 64,
   "id": "29430f97-4f70-409e-9037-14723e46e29e",
   "metadata": {},
   "outputs": [],
   "source": [
    "def find_closest_and_remove(Xs, Ys, min_distance):\n",
    "    Xs = np.array(Xs)\n",
    "    Ys = np.array(Ys)\n",
    "\n",
    "    # 计算 Xs 中每个点与 Ys 中所有点的距离矩阵\n",
    "    distances = np.linalg.norm(Xs[:, np.newaxis] - Ys, axis=-1)\n",
    "    \n",
    "    # 根据距离和阈值创建mask\n",
    "    mask = distances < min_distance\n",
    "    \n",
    "    # 将满足条件的距离赋值为1e9\n",
    "    distances[mask] = 1e9\n",
    "\n",
    "    # 找到最小距离的位置\n",
    "    # print(distances.astype(int))\n",
    "    min_indices = np.unravel_index(np.argmin(distances), distances.shape)\n",
    "    # print(min_distance)\n",
    "    # print(min_indices)\n",
    "    m0 = np.greater(mask.sum(0),0)\n",
    "    m0[min_indices[1]] = True\n",
    "\n",
    "    # 找到最近的点\n",
    "    closest_points = Ys[min_indices[1]]\n",
    "    \n",
    "    # 删除点 \n",
    "    # Ys = np.delete(Ys, min_indices, axis=0)\n",
    "    Ys = Ys[~m0]\n",
    "    return closest_points, Ys"
   ]
  },
  {
   "cell_type": "code",
   "execution_count": 68,
   "id": "da749488-7927-4b43-8092-9d65150a23e4",
   "metadata": {},
   "outputs": [],
   "source": [
    "# 示例用法\n",
    "Xs = np.array([[1, 2, 3], [2, 3, 4]])  # 3D坐标Xs\n",
    "Ys = np.array([[1, 2, 2], [3, 4, 5], [6, 7, 8], [1, 2, 4], [3, 4, 6]])\n",
    "min_distance = 3"
   ]
  },
  {
   "cell_type": "code",
   "execution_count": 69,
   "id": "f7497d35-a0fb-4e80-b0ed-babac0fdf688",
   "metadata": {},
   "outputs": [
    {
     "name": "stdout",
     "output_type": "stream",
     "text": [
      "Closest points:\n",
      "[3 4 5]\n",
      "Remaining points in Ys:\n",
      "[[6 7 8]]\n"
     ]
    }
   ],
   "source": [
    "closest_points, Ys = find_closest_and_remove(Xs, Ys, min_distance)\n",
    "print(\"Closest points:\")\n",
    "print(closest_points)\n",
    "print(\"Remaining points in Ys:\")\n",
    "print(Ys)"
   ]
  },
  {
   "cell_type": "code",
   "execution_count": 62,
   "id": "bf3ea060-3fae-47e1-b739-cd11b9242db4",
   "metadata": {},
   "outputs": [
    {
     "data": {
      "text/plain": [
       "4"
      ]
     },
     "execution_count": 62,
     "metadata": {},
     "output_type": "execute_result"
    }
   ],
   "source": [
    "data = [[111,333,100],[9,0,500]]\n",
    "data = np.array(data)\n",
    "np.argmin(data)"
   ]
  },
  {
   "cell_type": "code",
   "execution_count": 43,
   "id": "118d6261-977a-4cd8-b078-bfd9e4cbb2e1",
   "metadata": {},
   "outputs": [
    {
     "name": "stdout",
     "output_type": "stream",
     "text": [
      "最小值的坐标： (2, 0)\n"
     ]
    }
   ],
   "source": [
    "import numpy as np\n",
    "\n",
    "data = np.array([[1, 5, 3], [2, 8, 7], [0, 4, 6]])\n",
    "\n",
    "# 找到最小值的索引\n",
    "min_index = np.unravel_index(np.argmin(data), data.shape)\n",
    "\n",
    "print(\"最小值的坐标：\", min_index)"
   ]
  },
  {
   "cell_type": "code",
   "execution_count": null,
   "id": "f425c18a-614b-4e1c-8ecd-9b0deb13fa2d",
   "metadata": {},
   "outputs": [],
   "source": []
  }
 ],
 "metadata": {
  "kernelspec": {
   "display_name": "Python 3 (ipykernel)",
   "language": "python",
   "name": "python3"
  },
  "language_info": {
   "codemirror_mode": {
    "name": "ipython",
    "version": 3
   },
   "file_extension": ".py",
   "mimetype": "text/x-python",
   "name": "python",
   "nbconvert_exporter": "python",
   "pygments_lexer": "ipython3",
   "version": "3.10.13"
  }
 },
 "nbformat": 4,
 "nbformat_minor": 5
}
