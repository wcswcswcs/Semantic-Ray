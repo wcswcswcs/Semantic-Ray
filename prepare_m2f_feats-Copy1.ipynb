{
 "cells": [
  {
   "cell_type": "code",
   "execution_count": 1,
   "id": "8ce4b3d7-8d4d-48af-b4d0-787c3e7764f4",
   "metadata": {},
   "outputs": [],
   "source": [
    "from sray.network.mask2former.mask2former import *"
   ]
  },
  {
   "cell_type": "code",
   "execution_count": 2,
   "id": "46e01ea7-2ff3-4bea-b31f-5419c63b7cfa",
   "metadata": {},
   "outputs": [],
   "source": [
    "import torch\n",
    "import numpy as np\n",
    "import os\n",
    "import glob\n",
    "import cv2"
   ]
  },
  {
   "cell_type": "code",
   "execution_count": 3,
   "id": "b6fff113-dfa4-4b65-8a91-07cfbb8b7611",
   "metadata": {},
   "outputs": [],
   "source": [
    "scannet_dir = 'data/scannet'\n",
    "img_files = glob.glob(os.path.join(scannet_dir,\"*\",\"color\",\"*.jpg\"))"
   ]
  },
  {
   "cell_type": "code",
   "execution_count": 4,
   "id": "c1993a4d-0f3e-44a5-9a6a-64148eff8d3b",
   "metadata": {},
   "outputs": [
    {
     "data": {
      "text/plain": [
       "'data/scannet/scene0011_00/color/637.jpg'"
      ]
     },
     "execution_count": 4,
     "metadata": {},
     "output_type": "execute_result"
    }
   ],
   "source": [
    "img_files[0]"
   ]
  },
  {
   "cell_type": "code",
   "execution_count": 5,
   "id": "4770572c-2af8-417d-accb-77252e70512e",
   "metadata": {},
   "outputs": [],
   "source": [
    "def get_img_id_from_img_path(img_path):\n",
    "    return img_path.split('/')[-1].split('.')[0]"
   ]
  },
  {
   "cell_type": "code",
   "execution_count": 13,
   "id": "1020a7e8-2b87-45d0-9a8b-059a3773e07c",
   "metadata": {},
   "outputs": [
    {
     "data": {
      "text/plain": [
       "'data/scannet/scene0011_00'"
      ]
     },
     "execution_count": 13,
     "metadata": {},
     "output_type": "execute_result"
    }
   ],
   "source": [
    "get_scene_fold_from_img_path(img_files[0])"
   ]
  },
  {
   "cell_type": "code",
   "execution_count": 6,
   "id": "8b5d7eb6-2a99-4aa2-b365-b7aa5876a04d",
   "metadata": {},
   "outputs": [],
   "source": [
    "def get_scene_fold_from_img_path(img_path):\n",
    "    return os.path.join(*(img_path.split('/')[:-2]))"
   ]
  },
  {
   "cell_type": "markdown",
   "id": "3d8b70ab-1d87-4309-87a0-08ae3dee9fb9",
   "metadata": {},
   "source": [
    "## get_scene_fold_from_img_path(img_files[0])"
   ]
  },
  {
   "cell_type": "code",
   "execution_count": 7,
   "id": "d2e7d98e-3c6f-4ab6-a992-b2636bdab126",
   "metadata": {},
   "outputs": [],
   "source": [
    "cfg = {\n",
    "    'config_file' : '/home/chengshun.wang/pjs/mmsegmentation/m2f_pt/mask2former_r50_scannet_2d_240x320_pretrain.py',\n",
    "  'checkpoint_file' : '/home/chengshun.wang/pjs/mmsegmentation/m2f_pt/best_mIoU_iter_85000.pth',\n",
    "}"
   ]
  },
  {
   "cell_type": "code",
   "execution_count": 8,
   "id": "e41eb9e3-f878-4ce3-8c6a-dad51882cd98",
   "metadata": {},
   "outputs": [
    {
     "name": "stdout",
     "output_type": "stream",
     "text": [
      "Loads checkpoint by local backend from path: /home/chengshun.wang/pjs/mmsegmentation/m2f_pt/best_mIoU_iter_85000.pth\n"
     ]
    }
   ],
   "source": [
    "model = get_m2f(cfg)"
   ]
  },
  {
   "cell_type": "code",
   "execution_count": 9,
   "id": "3b912d8e-430e-4c5d-a5ff-8d36ade7750c",
   "metadata": {},
   "outputs": [],
   "source": [
    "def get_img(img_path):\n",
    "    img = cv2.imread(img_path)\n",
    "    img = cv2.resize(downsample_gaussian_blur(\n",
    "        img, 320/1296), (240, 320), interpolation=cv2.INTER_LINEAR)\n",
    "    return img\n",
    "def downsample_gaussian_blur(img, ratio):\n",
    "    sigma = (1 / ratio) / 3\n",
    "    # ksize=np.ceil(2*sigma)\n",
    "    ksize = int(np.ceil(((sigma - 0.8) / 0.3 + 1) * 2 + 1))\n",
    "    ksize = ksize + 1 if ksize % 2 == 0 else ksize\n",
    "    img = cv2.GaussianBlur(img, (ksize, ksize), sigma, borderType=cv2.BORDER_REFLECT101)\n",
    "    return img"
   ]
  },
  {
   "cell_type": "code",
   "execution_count": null,
   "id": "90df471a-9609-4800-86b6-1b0b51fa851e",
   "metadata": {},
   "outputs": [],
   "source": [
    "for i in img_files:\n",
    "    scene_dir = get_scene_fold_from_img_path(i)\n",
    "    img_id = get_img_id_from_img_path(i)\n",
    "    os.makedirs(os.path.join(scene_dir,'m2f'),exist_ok=True)\n",
    "    seg_logits, pred_sem_seg, mlvl_feats = get_m2f_inference_outputs(model,[get_img(i)])\n",
    "    seg_logits = seg_logits[0].cpu()\n",
    "    pred_sem_seg  =pred_sem_seg[0].cpu()\n",
    "    mlvl_feats = torch.stack(mlvl_feats,1)[0].cpu()\n",
    "    # print(seg_logits.shape)\n",
    "    # print(pred_sem_seg.shape)\n",
    "    # print(mlvl_feats.shape)\n",
    "    ret=dict(seg_logits=seg_logits, pred_sem_seg = pred_sem_seg, mlvl_feats = mlvl_feats)\n",
    "    torch.save(ret,os.path.join(scene_dir,'m2f',f'm2f_{img_id}.pt'))\n",
    "    # # torch.save(ret,os.path.join('m2f.pt'))\n",
    "    # break"
   ]
  },
  {
   "cell_type": "code",
   "execution_count": null,
   "id": "04efcd14-1428-48f5-aec7-5a85470f6fa6",
   "metadata": {},
   "outputs": [],
   "source": [
    "data = torch.load('m2f.pt')"
   ]
  },
  {
   "cell_type": "code",
   "execution_count": null,
   "id": "f9426eb1-68b4-4a8a-93cd-2c457bf3cf4a",
   "metadata": {},
   "outputs": [],
   "source": []
  },
  {
   "cell_type": "code",
   "execution_count": null,
   "id": "f9468692-5734-493f-9f2d-0814a9fe44c4",
   "metadata": {},
   "outputs": [],
   "source": []
  },
  {
   "cell_type": "code",
   "execution_count": null,
   "id": "afa88f4b-b9d8-458b-9fd6-03f34aa9cf1f",
   "metadata": {},
   "outputs": [],
   "source": []
  },
  {
   "cell_type": "code",
   "execution_count": null,
   "id": "3971a322-37bb-4014-a202-fc13d2124470",
   "metadata": {},
   "outputs": [],
   "source": []
  },
  {
   "cell_type": "code",
   "execution_count": null,
   "id": "e1bca38c-991c-4b47-b12a-86351ba9d97a",
   "metadata": {},
   "outputs": [],
   "source": []
  },
  {
   "cell_type": "code",
   "execution_count": null,
   "id": "3d1c6565-ef5e-4dfa-a47f-c98ef276e114",
   "metadata": {},
   "outputs": [],
   "source": []
  },
  {
   "cell_type": "code",
   "execution_count": null,
   "id": "7959c771-7b14-4dd9-9900-50cfff4c793a",
   "metadata": {},
   "outputs": [],
   "source": []
  },
  {
   "cell_type": "code",
   "execution_count": null,
   "id": "08e3f9a9-8ede-4516-89cf-bbc64f64bd8a",
   "metadata": {},
   "outputs": [],
   "source": []
  }
 ],
 "metadata": {
  "kernelspec": {
   "display_name": "Python 3 (ipykernel)",
   "language": "python",
   "name": "python3"
  },
  "language_info": {
   "codemirror_mode": {
    "name": "ipython",
    "version": 3
   },
   "file_extension": ".py",
   "mimetype": "text/x-python",
   "name": "python",
   "nbconvert_exporter": "python",
   "pygments_lexer": "ipython3",
   "version": "3.10.13"
  }
 },
 "nbformat": 4,
 "nbformat_minor": 5
}
