{
 "cells": [
  {
   "cell_type": "code",
   "execution_count": 1,
   "id": "3d941d2b-6a4e-4cc9-898d-583b4cf1e3e9",
   "metadata": {},
   "outputs": [],
   "source": [
    "import numpy as np\n",
    "import plotly.express as px\n",
    "from sray.dataset.database import ScannetDatabase\n",
    "import os\n",
    "from plyfile import PlyData"
   ]
  },
  {
   "cell_type": "code",
   "execution_count": 2,
   "id": "6f39250a-48a7-49ad-a93b-bf85c22b342c",
   "metadata": {},
   "outputs": [],
   "source": [
    "scene_name = 'scannet/scene0000_00/black_320'\n",
    "dataset = ScannetDatabase(scene_name)"
   ]
  },
  {
   "cell_type": "code",
   "execution_count": 3,
   "id": "58b40fd8-ed82-4a48-bd4a-cfa330054fac",
   "metadata": {},
   "outputs": [],
   "source": [
    "ROOT = 'data/scannet/scene0000_00/'\n",
    "filename = os.path.join(ROOT, \"scene0000_00_vh_clean_2.ply\")\n",
    "with open(filename, 'rb') as f:\n",
    "    plydata = PlyData.read(f)\n",
    "    num_verts = plydata['vertex'].count\n",
    "    vertices = np.zeros(shape=[num_verts, 6], dtype=np.float32)\n",
    "    vertices[:, 0] = plydata['vertex'].data['x']\n",
    "    vertices[:, 1] = plydata['vertex'].data['y']\n",
    "    vertices[:, 2] = plydata['vertex'].data['z']\n",
    "    vertices[:, 3] = plydata['vertex'].data['red']\n",
    "    vertices[:, 4] = plydata['vertex'].data['green']\n",
    "    vertices[:, 5] = plydata['vertex'].data['blue']\n"
   ]
  },
  {
   "cell_type": "code",
   "execution_count": 4,
   "id": "90a0a653-4452-473b-ba22-3f044c1ccebb",
   "metadata": {},
   "outputs": [],
   "source": [
    "axis_align_matrix = dataset.get_axis_align_matrix()\n",
    "pts = np.ones((vertices.shape[0], 4))\n",
    "pts[:, 0:3] = vertices[:, :3]\n",
    "pts = np.dot(pts, axis_align_matrix.transpose())[:,:3]"
   ]
  },
  {
   "cell_type": "code",
   "execution_count": 9,
   "id": "6cb5d8fe-73ea-46f5-9ef0-e0efd406b2c6",
   "metadata": {},
   "outputs": [
    {
     "data": {
      "text/plain": [
       "array([-3.63584548, -3.61220749, -0.06493457])"
      ]
     },
     "execution_count": 9,
     "metadata": {},
     "output_type": "execute_result"
    }
   ],
   "source": [
    "aabb_min = np.min(pts,0)\n",
    "aabb_min"
   ]
  },
  {
   "cell_type": "code",
   "execution_count": 10,
   "id": "98185f7d-8f92-4e40-bded-f36104861230",
   "metadata": {},
   "outputs": [
    {
     "data": {
      "text/plain": [
       "array([3.40548895, 3.63672   , 2.96044291])"
      ]
     },
     "execution_count": 10,
     "metadata": {},
     "output_type": "execute_result"
    }
   ],
   "source": [
    "aabb_max = np.max(pts,0)\n",
    "aabb_max"
   ]
  },
  {
   "cell_type": "code",
   "execution_count": null,
   "id": "aae9019f-2752-4924-b74f-8fb72bc4b69c",
   "metadata": {},
   "outputs": [],
   "source": []
  },
  {
   "cell_type": "code",
   "execution_count": 7,
   "id": "9dd7b11b-237d-418e-9e3a-27272f689b89",
   "metadata": {},
   "outputs": [
    {
     "data": {
      "text/plain": [
       "array([-0.23035654,  0.02451251,  2.89550834])"
      ]
     },
     "execution_count": 7,
     "metadata": {},
     "output_type": "execute_result"
    }
   ],
   "source": [
    "aabb_min + aabb_max"
   ]
  },
  {
   "cell_type": "code",
   "execution_count": 8,
   "id": "71aeed6b-0bad-4f36-8378-fe035ee01f84",
   "metadata": {},
   "outputs": [
    {
     "data": {
      "text/plain": [
       "array([[-3.63584548, -3.61220749, -0.06493457],\n",
       "       [ 3.40548895,  3.63672   ,  2.96044291]])"
      ]
     },
     "execution_count": 8,
     "metadata": {},
     "output_type": "execute_result"
    }
   ],
   "source": [
    "dataset.get_aabb()"
   ]
  },
  {
   "cell_type": "code",
   "execution_count": null,
   "id": "15982ed5-a1cf-4b77-8bd6-cca036adad1f",
   "metadata": {},
   "outputs": [],
   "source": []
  },
  {
   "cell_type": "code",
   "execution_count": null,
   "id": "22eaadda-0c75-4f11-bdb6-8c12d54b6383",
   "metadata": {},
   "outputs": [],
   "source": []
  },
  {
   "cell_type": "code",
   "execution_count": null,
   "id": "599d07d5-40ab-4d0d-b33e-311a3155ec2b",
   "metadata": {},
   "outputs": [],
   "source": []
  },
  {
   "cell_type": "code",
   "execution_count": null,
   "id": "f237928a-6be2-47a6-9f17-f5929346eaeb",
   "metadata": {},
   "outputs": [],
   "source": []
  },
  {
   "cell_type": "code",
   "execution_count": null,
   "id": "531159e3-ecf2-49e8-9b30-0a8b8964004f",
   "metadata": {},
   "outputs": [],
   "source": []
  },
  {
   "cell_type": "code",
   "execution_count": null,
   "id": "1f077287-4601-4f1d-ac06-9e1176778949",
   "metadata": {},
   "outputs": [],
   "source": []
  },
  {
   "cell_type": "code",
   "execution_count": null,
   "id": "99dd57db-b4ba-4139-9219-4b4f118dcf66",
   "metadata": {},
   "outputs": [],
   "source": []
  },
  {
   "cell_type": "code",
   "execution_count": null,
   "id": "3903e6f1-9466-4330-9370-92f7205425a4",
   "metadata": {},
   "outputs": [],
   "source": []
  },
  {
   "cell_type": "code",
   "execution_count": null,
   "id": "988cca92-5eca-4f0a-bc18-2a04744a806d",
   "metadata": {},
   "outputs": [],
   "source": []
  },
  {
   "cell_type": "code",
   "execution_count": null,
   "id": "845ccde2-9e6f-43ad-98a8-c75e9445ba45",
   "metadata": {},
   "outputs": [],
   "source": []
  },
  {
   "cell_type": "code",
   "execution_count": null,
   "id": "7514061b-7f5f-4fec-9fca-ff2d89184542",
   "metadata": {},
   "outputs": [],
   "source": []
  },
  {
   "cell_type": "code",
   "execution_count": null,
   "id": "fe30147a-d974-4f04-9ccd-91f1100f6bb5",
   "metadata": {},
   "outputs": [],
   "source": []
  },
  {
   "cell_type": "code",
   "execution_count": null,
   "id": "e4dcc751-1bf9-4834-abb7-9950e5d50cb1",
   "metadata": {},
   "outputs": [],
   "source": []
  },
  {
   "cell_type": "code",
   "execution_count": null,
   "id": "be5ad3b7-2363-419b-9fab-f82a42adb1b6",
   "metadata": {},
   "outputs": [],
   "source": []
  },
  {
   "cell_type": "code",
   "execution_count": null,
   "id": "0e7691ea-d416-48dc-a460-77aabc3785f2",
   "metadata": {},
   "outputs": [],
   "source": []
  },
  {
   "cell_type": "code",
   "execution_count": null,
   "id": "09ccc10e-0c81-42b7-953f-55d10bdd65f6",
   "metadata": {},
   "outputs": [],
   "source": []
  },
  {
   "cell_type": "code",
   "execution_count": null,
   "id": "e1d09124-cf82-49ed-aea4-59d9c49d00f0",
   "metadata": {},
   "outputs": [],
   "source": []
  },
  {
   "cell_type": "code",
   "execution_count": null,
   "id": "a76cdbb6-1f8e-405c-998d-8d4d8293ebb4",
   "metadata": {},
   "outputs": [],
   "source": []
  },
  {
   "cell_type": "code",
   "execution_count": null,
   "id": "c0be5991-a470-47d8-848d-216b690020f9",
   "metadata": {},
   "outputs": [],
   "source": []
  },
  {
   "cell_type": "code",
   "execution_count": null,
   "id": "2dfc5c0d-eb37-4622-a0f2-294977e26ff9",
   "metadata": {},
   "outputs": [],
   "source": []
  },
  {
   "cell_type": "code",
   "execution_count": null,
   "id": "5cbbffd9-4b6f-4c1c-a31e-ab191927e590",
   "metadata": {},
   "outputs": [],
   "source": []
  },
  {
   "cell_type": "code",
   "execution_count": null,
   "id": "bf16baea-2e5a-4ad5-a0f2-ab1502050498",
   "metadata": {},
   "outputs": [],
   "source": []
  },
  {
   "cell_type": "code",
   "execution_count": null,
   "id": "4baac190-05fe-454e-a913-29c978175259",
   "metadata": {},
   "outputs": [],
   "source": []
  },
  {
   "cell_type": "code",
   "execution_count": null,
   "id": "d9e09ffc-efc9-4430-8fe2-8e14a7b9d3bb",
   "metadata": {},
   "outputs": [],
   "source": []
  },
  {
   "cell_type": "code",
   "execution_count": null,
   "id": "00a4ab72-4fb0-4148-8f37-7c2d6e1d9d9e",
   "metadata": {},
   "outputs": [],
   "source": []
  },
  {
   "cell_type": "code",
   "execution_count": null,
   "id": "ab8928a5-e80d-4fe1-8e1b-7397183b95c7",
   "metadata": {},
   "outputs": [],
   "source": []
  },
  {
   "cell_type": "code",
   "execution_count": null,
   "id": "ebd072a1-1c24-4b37-a194-2f0986fe4f6a",
   "metadata": {},
   "outputs": [],
   "source": []
  },
  {
   "cell_type": "code",
   "execution_count": null,
   "id": "02097cf4-a067-4711-bf76-edb7ae7c392e",
   "metadata": {},
   "outputs": [],
   "source": []
  },
  {
   "cell_type": "code",
   "execution_count": null,
   "id": "f0170308-1a26-4b4a-90b4-ff3b7c5c8296",
   "metadata": {},
   "outputs": [],
   "source": []
  },
  {
   "cell_type": "code",
   "execution_count": null,
   "id": "4c7a3648-2342-49c5-85d3-a71073065ae0",
   "metadata": {},
   "outputs": [],
   "source": []
  }
 ],
 "metadata": {
  "kernelspec": {
   "display_name": "Python 3 (ipykernel)",
   "language": "python",
   "name": "python3"
  },
  "language_info": {
   "codemirror_mode": {
    "name": "ipython",
    "version": 3
   },
   "file_extension": ".py",
   "mimetype": "text/x-python",
   "name": "python",
   "nbconvert_exporter": "python",
   "pygments_lexer": "ipython3",
   "version": "3.10.13"
  }
 },
 "nbformat": 4,
 "nbformat_minor": 5
}
