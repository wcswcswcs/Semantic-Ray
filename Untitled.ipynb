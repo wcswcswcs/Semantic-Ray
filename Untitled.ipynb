{
 "cells": [
  {
   "cell_type": "code",
   "execution_count": 1,
   "id": "ed1535a6",
   "metadata": {},
   "outputs": [],
   "source": [
    "import torch"
   ]
  },
  {
   "cell_type": "code",
   "execution_count": 2,
   "id": "86230886",
   "metadata": {},
   "outputs": [],
   "source": [
    "\n",
    "conv = torch.nn.Conv2d(3,\n",
    "      4,\n",
    "      kernel_size=3,\n",
    "      stride=4,\n",
    "      padding=(3 - 1) // 2,\n",
    "      padding_mode='reflect')"
   ]
  },
  {
   "cell_type": "code",
   "execution_count": 3,
   "id": "2e96628c",
   "metadata": {},
   "outputs": [],
   "source": [
    "data = torch.rand((1,3,60,80))"
   ]
  },
  {
   "cell_type": "code",
   "execution_count": 4,
   "id": "a2ad8df7",
   "metadata": {},
   "outputs": [
    {
     "data": {
      "text/plain": [
       "torch.Size([1, 4, 15, 20])"
      ]
     },
     "execution_count": 4,
     "metadata": {},
     "output_type": "execute_result"
    }
   ],
   "source": [
    "conv(data).shape"
   ]
  },
  {
   "cell_type": "code",
   "execution_count": 8,
   "id": "5229f461",
   "metadata": {},
   "outputs": [
    {
     "data": {
      "text/plain": [
       "tensor([[[3.0000, 3.0000, 3.0000, 3.0000, 3.0000],\n",
       "         [0.3873, 0.9925, 0.5728, 0.4177, 0.8038],\n",
       "         [3.0000, 3.0000, 3.0000, 3.0000, 3.0000]]])"
      ]
     },
     "execution_count": 8,
     "metadata": {},
     "output_type": "execute_result"
    }
   ],
   "source": [
    "data = torch.rand((1,3,5))\n",
    "mask = torch.tensor([[0,1,0]])[...,None].repeat(1,1,5)\n",
    "data.masked_fill(mask==0,3)"
   ]
  },
  {
   "cell_type": "code",
   "execution_count": null,
   "id": "b2affc23",
   "metadata": {},
   "outputs": [],
   "source": []
  },
  {
   "cell_type": "code",
   "execution_count": null,
   "id": "b96e9144",
   "metadata": {},
   "outputs": [],
   "source": []
  },
  {
   "cell_type": "code",
   "execution_count": null,
   "id": "4bdff0a2",
   "metadata": {},
   "outputs": [],
   "source": []
  }
 ],
 "metadata": {
  "kernelspec": {
   "display_name": "Python 3 (ipykernel)",
   "language": "python",
   "name": "python3"
  },
  "language_info": {
   "codemirror_mode": {
    "name": "ipython",
    "version": 3
   },
   "file_extension": ".py",
   "mimetype": "text/x-python",
   "name": "python",
   "nbconvert_exporter": "python",
   "pygments_lexer": "ipython3",
   "version": "3.8.10"
  }
 },
 "nbformat": 4,
 "nbformat_minor": 5
}
