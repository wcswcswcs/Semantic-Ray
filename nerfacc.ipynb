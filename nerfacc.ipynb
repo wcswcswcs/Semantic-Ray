{
 "cells": [
  {
   "cell_type": "code",
   "execution_count": 1,
   "id": "ac921cfa-cbff-4fba-9055-ffd13c43c75c",
   "metadata": {},
   "outputs": [],
   "source": [
    "#!pip install nerfacc\n",
    "#!pip install nerfstudio"
   ]
  },
  {
   "cell_type": "code",
   "execution_count": 1,
   "id": "d081205e-8b54-42f5-8e70-70fdc48a450f",
   "metadata": {},
   "outputs": [],
   "source": [
    "import torch\n",
    "from torch import Tensor\n",
    "import numpy as np\n",
    "import nerfacc\n",
    "from nerfstudio.model_components.ray_samplers import VolumetricSampler\n",
    "from nerfacc.estimators.occ_grid import OccGridEstimator\n",
    "# radiance_field = ...  # network: a NeRF model\n",
    "# rays_o: Tensor = ...  # ray origins. (n_rays, 3)\n",
    "# rays_d: Tensor = ...  # ray normalized directions. (n_rays, 3)"
   ]
  },
  {
   "cell_type": "code",
   "execution_count": 2,
   "id": "136d3eef-42c6-4416-be7d-d69a1de64ee3",
   "metadata": {},
   "outputs": [],
   "source": [
    "rays_o = torch.tensor([[1.1,1.1,0],[1.1,1.1,0.5]]).cuda()\n",
    "rays_d = torch.tensor([[-2**(-0.5),-2**(-0.5),0],[-2**(-0.5),-2**(-0.5),0]]).cuda()"
   ]
  },
  {
   "cell_type": "code",
   "execution_count": 29,
   "id": "198d5145-e7ca-4b10-8793-53bdd51b2761",
   "metadata": {},
   "outputs": [],
   "source": [
    "density_field = torch.zeros((32,32,32)).cuda()\n",
    "density_field[:,:16,:16] = 0.03"
   ]
  },
  {
   "cell_type": "code",
   "execution_count": 30,
   "id": "8bf4b9c7-ab68-4213-a9f1-44e28bf1a501",
   "metadata": {},
   "outputs": [],
   "source": [
    "def Part_1_By_2(x: torch.tensor):\n",
    "    x &= 0x000003ff;                 # x = ---- ---- ---- ---- ---- --98 7654 3210\n",
    "    x = (x ^ (x << 16)) & 0xff0000ff # x = ---- --98 ---- ---- ---- ---- 7654 3210\n",
    "    x = (x ^ (x <<  8)) & 0x0300f00f # x = ---- --98 ---- ---- 7654 ---- ---- 3210\n",
    "    x = (x ^ (x <<  4)) & 0x030c30c3 # x = ---- --98 ---- 76-- --54 ---- 32-- --10\n",
    "    x = (x ^ (x <<  2)) & 0x09249249 # x = ---- 9--8 --7- -6-- 5--4 --3- -2-- 1--0\n",
    "    return x\n",
    "\n",
    "def morton_naive(x: torch.tensor, y: torch.tensor, z: torch.tensor):\n",
    "    return Part_1_By_2(x) + (Part_1_By_2(y) << 1) + (Part_1_By_2(z) << 2)\n",
    "\n",
    "def morton(input):\n",
    "    return morton_naive(input[..., 0], input[..., 1], input[..., 2])\n",
    "\n",
    "def inv_Part_1_By_2(x: torch.tensor):\n",
    "    x = ((x >> 2) | x) & 0x030C30C3\n",
    "    x = ((x >> 4) | x) & 0x0300F00F\n",
    "    x = ((x >> 8) | x) & 0x030000FF\n",
    "    x = ((x >>16) | x) & 0x000003FF\n",
    "    return x\n",
    "\n",
    "def inv_morton_naive(input: torch.tensor):\n",
    "    x = input &        0x09249249\n",
    "    y = (input >> 1) & 0x09249249\n",
    "    z = (input >> 2) & 0x09249249\n",
    "    \n",
    "    return inv_Part_1_By_2(x), inv_Part_1_By_2(y), inv_Part_1_By_2(z)\n",
    "\n",
    "def inv_morton(input:torch.tensor):\n",
    "    x,y,z = inv_morton_naive(input)\n",
    "    return torch.stack([x,y,z], dim = -1)"
   ]
  },
  {
   "cell_type": "code",
   "execution_count": 31,
   "id": "199837cb-d486-4a4d-b9e6-3b282d0bae59",
   "metadata": {
    "scrolled": true
   },
   "outputs": [
    {
     "data": {
      "text/plain": [
       "<All keys matched successfully>"
      ]
     },
     "execution_count": 31,
     "metadata": {},
     "output_type": "execute_result"
    }
   ],
   "source": [
    "grid_raw = density_field\n",
    "\n",
    "    #grid_raw = torch.ones_like(grid_raw, dtype = torch.float32, device = 'cuda')\n",
    "grid = torch.zeros([32**3], dtype = torch.float32, device = 'cuda')\n",
    "x, y, z = inv_morton_naive(torch.arange(0, 32**3, 1))\n",
    "# for i,j,k in zip(x,y,z):\n",
    "#     if i<16 and j < 16:\n",
    "#         grid[i * 32 * 32 + j * 32 + k] = 0.5\n",
    "grid[x * 32 * 32 + y * 32 + z] = grid_raw.permute(2,1,0).flatten()[x * 32 * 32 + y * 32 + z]\n",
    "grid_3d = torch.reshape(grid > 0.01, [1, 32, 32, 32]).type(torch.bool)\n",
    "\n",
    "estimator = OccGridEstimator(\n",
    "    roi_aabb=[0, 0, 0, 1, 1, 1], resolution=32, levels=1\n",
    ").cuda()\n",
    "\n",
    "params_grid = {\n",
    "    \"resolution\": torch.tensor([32, 32, 32], dtype = torch.int32),\n",
    "    #\"aabbs\": torch.tensor([[-0.5, -0.5, -0.5, 1.5, 1.5, 1.5]]),\n",
    "    \"aabbs\": torch.tensor([[0, 0, 0, 1, 1, 1]]),\n",
    "    \"occs\":grid,\n",
    "    \"binaries\": grid_3d\n",
    "}\n",
    "estimator.load_state_dict(params_grid)"
   ]
  },
  {
   "cell_type": "code",
   "execution_count": 60,
   "id": "0694048e-acec-4610-8818-d7130dbe01d6",
   "metadata": {},
   "outputs": [],
   "source": [
    "# def sigma_fn(\n",
    "#    t_starts: Tensor, t_ends:Tensor, ray_indices: Tensor\n",
    "# ) -> Tensor:\n",
    "#     print('1')\n",
    "#     \"\"\" Define how to query density for the estimator.\"\"\"\n",
    "#     t_origins = rays_o[ray_indices]  # (n_samples, 3)\n",
    "#     t_dirs = rays_d[ray_indices]  # (n_samples, 3)\n",
    "#     positions = t_origins + t_dirs * (t_starts + t_ends)[:, None] / 2.0\n",
    "#     positions = positions.view(1,-1,1,1,3)\n",
    "#     positions\n",
    "#     sigmas = torch.nn.functional.grid_sample(density_field[None,None],positions,mode='bilinear',align_corners=True)\n",
    "#     sigmas = sigmas.view(t_dirs.shape[0],-1)\n",
    "#     return sigmas  # (n_samples,)\n",
    "\n",
    "# Efficient Raymarching:\n",
    "# ray_indices: (n_samples,). t_starts: (n_samples,). t_ends: (n_samples,).\n",
    "\n",
    "ray_indices, t_starts, t_ends = estimator.sampling(\n",
    "   rays_o, rays_d, near_plane=0.2, far_plane=2.0,render_step_size = 1e-1,\n",
    "   early_stop_eps=0.01, alpha_thre=0.01,\n",
    ")\n",
    "\n"
   ]
  },
  {
   "cell_type": "code",
   "execution_count": 61,
   "id": "ef52a2fe-6935-43e9-953f-2397d6563090",
   "metadata": {},
   "outputs": [
    {
     "data": {
      "text/plain": [
       "tensor([ 0,  1,  0,  ..., 31, 30, 31])"
      ]
     },
     "execution_count": 61,
     "metadata": {},
     "output_type": "execute_result"
    }
   ],
   "source": [
    "x"
   ]
  },
  {
   "cell_type": "code",
   "execution_count": 62,
   "id": "ce301c31-777d-42d5-97e5-daaeec2ee9a4",
   "metadata": {},
   "outputs": [
    {
     "data": {
      "text/plain": [
       "tensor([ 0,  0,  1,  ..., 30, 31, 31])"
      ]
     },
     "execution_count": 62,
     "metadata": {},
     "output_type": "execute_result"
    }
   ],
   "source": [
    "y"
   ]
  },
  {
   "cell_type": "code",
   "execution_count": 63,
   "id": "b95c60ea-7381-4deb-9cad-c738fee0f714",
   "metadata": {},
   "outputs": [
    {
     "data": {
      "text/plain": [
       "torch.Size([16])"
      ]
     },
     "execution_count": 63,
     "metadata": {},
     "output_type": "execute_result"
    }
   ],
   "source": [
    "ray_indices.shape"
   ]
  },
  {
   "cell_type": "code",
   "execution_count": 64,
   "id": "9e8f5b96-92a0-4c06-a427-443fb88ba59e",
   "metadata": {},
   "outputs": [
    {
     "data": {
      "text/plain": [
       "tensor([0, 0, 0, 0, 0, 0, 0, 0, 1, 1, 1, 1, 1, 1, 1, 1], device='cuda:0')"
      ]
     },
     "execution_count": 64,
     "metadata": {},
     "output_type": "execute_result"
    }
   ],
   "source": [
    "ray_indices"
   ]
  },
  {
   "cell_type": "code",
   "execution_count": 67,
   "id": "36454b1c-464c-4b59-bfdc-747702d9f624",
   "metadata": {},
   "outputs": [
    {
     "data": {
      "text/plain": [
       "tensor(8, device='cuda:0')"
      ]
     },
     "execution_count": 67,
     "metadata": {},
     "output_type": "execute_result"
    }
   ],
   "source": [
    "ray_indices.eq(0).sum()"
   ]
  },
  {
   "cell_type": "code",
   "execution_count": 65,
   "id": "27ee109c-465d-49e1-97c3-1a7da233ab9b",
   "metadata": {},
   "outputs": [
    {
     "data": {
      "text/plain": [
       "torch.Size([16])"
      ]
     },
     "execution_count": 65,
     "metadata": {},
     "output_type": "execute_result"
    }
   ],
   "source": [
    "t_starts.shape"
   ]
  },
  {
   "cell_type": "code",
   "execution_count": 59,
   "id": "7c73da49-16dc-4b57-b837-799db1855551",
   "metadata": {},
   "outputs": [
    {
     "data": {
      "text/plain": [
       "tensor([[0.4990, 0.4990, 0.0000],\n",
       "        [0.4282, 0.4282, 0.0000],\n",
       "        [0.3575, 0.3575, 0.0000],\n",
       "        [0.2868, 0.2868, 0.0000],\n",
       "        [0.2161, 0.2161, 0.0000],\n",
       "        [0.1454, 0.1454, 0.0000],\n",
       "        [0.0747, 0.0747, 0.0000],\n",
       "        [0.0040, 0.0040, 0.0000],\n",
       "        [0.4990, 0.4990, 0.5000],\n",
       "        [0.4282, 0.4282, 0.5000],\n",
       "        [0.3575, 0.3575, 0.5000],\n",
       "        [0.2868, 0.2868, 0.5000],\n",
       "        [0.2161, 0.2161, 0.5000],\n",
       "        [0.1454, 0.1454, 0.5000],\n",
       "        [0.0747, 0.0747, 0.5000],\n",
       "        [0.0040, 0.0040, 0.5000]], device='cuda:0')"
      ]
     },
     "execution_count": 59,
     "metadata": {},
     "output_type": "execute_result"
    }
   ],
   "source": [
    "rays_o[ray_indices] +  rays_d[ray_indices]* (t_starts[...,None] + t_ends[...,None])/2"
   ]
  },
  {
   "cell_type": "code",
   "execution_count": 28,
   "id": "096eecb0-9f86-4ee2-93aa-35dd97391737",
   "metadata": {},
   "outputs": [
    {
     "data": {
      "text/plain": [
       "torch.Size([0])"
      ]
     },
     "execution_count": 28,
     "metadata": {},
     "output_type": "execute_result"
    }
   ],
   "source": [
    "(t_starts + t_ends).shape"
   ]
  },
  {
   "cell_type": "code",
   "execution_count": 72,
   "id": "0e63ffaf-731d-419f-a09b-d080e92dcffc",
   "metadata": {},
   "outputs": [
    {
     "data": {
      "text/plain": [
       "torch.Size([2, 3])"
      ]
     },
     "execution_count": 72,
     "metadata": {},
     "output_type": "execute_result"
    }
   ],
   "source": [
    "rays_o.shape"
   ]
  },
  {
   "cell_type": "code",
   "execution_count": null,
   "id": "655434de-dc6b-4537-84af-62340348ad0c",
   "metadata": {},
   "outputs": [],
   "source": []
  },
  {
   "cell_type": "code",
   "execution_count": 201,
   "id": "56504853-2d52-4481-ac11-3710901d9884",
   "metadata": {
    "scrolled": true
   },
   "outputs": [],
   "source": [
    "def near_far_from_aabb(rays_o, rays_d, aabb, min_near=0.05):\n",
    "    # rays: [N, 3], [N, 3]\n",
    "    # bound: int, radius for ball or half-edge-length for cube\n",
    "    # return near [N, 1], far [N, 1]\n",
    "\n",
    "    tmin = (aabb[:3] - rays_o) / (rays_d + 1e-15) # [N, 3]\n",
    "    tmax = (aabb[3:]  - rays_o) / (rays_d + 1e-15)\n",
    "    near = torch.where(tmin < tmax, tmin, tmax).amax(dim=-1, keepdim=True)\n",
    "    far = torch.where(tmin > tmax, tmin, tmax).amin(dim=-1, keepdim=True)\n",
    "    # if far < near, means no intersection, set both near and far to inf (1e9 here)\n",
    "    mask = far < near\n",
    "    near[mask] = 1e9\n",
    "    far[mask] = 1e9\n",
    "    # restrict near to a minimal value\n",
    "    near = torch.clamp(near, min=min_near)\n",
    "\n",
    "    return near, far"
   ]
  },
  {
   "cell_type": "code",
   "execution_count": 210,
   "id": "dae78469-2399-441d-bf16-33bb2e7aae30",
   "metadata": {},
   "outputs": [],
   "source": [
    "rays_o = torch.tensor([[0.7,0.7,0],[1.1,1.1,0.5]]).cuda()\n",
    "rays_d = torch.tensor([[-2**(-0.5),-2**(-0.5),0],[-2**(-0.5),-2**(-0.5),0]]).cuda()\n",
    "density_field = torch.zeros((32,32,32)).cuda()\n",
    "density_field[:16,:16,:] = 1\n",
    "aabb = torch.tensor([0.,0.,0.,1.,1.,1.]).cuda()\n",
    "\n",
    "near,far= near_far_from_aabb(rays_o, rays_d, aabb)\n",
    "mask  = (near != 1e9).squeeze().squeeze()\n",
    "near = near[mask].squeeze().squeeze()\n",
    "far = far[mask].squeeze()\n",
    "rays_o = rays_o[mask]\n",
    "rays_d = rays_d[mask]\n",
    "step = (far-near)/32"
   ]
  },
  {
   "cell_type": "code",
   "execution_count": 211,
   "id": "92d50fdb-6a09-4058-8e37-93c038f68a60",
   "metadata": {},
   "outputs": [
    {
     "data": {
      "text/plain": [
       "<All keys matched successfully>"
      ]
     },
     "execution_count": 211,
     "metadata": {},
     "output_type": "execute_result"
    }
   ],
   "source": [
    "grid_raw = density_field\n",
    "\n",
    "grid = torch.zeros([32**3], dtype = torch.float32, device = 'cuda')\n",
    "x, y, z = inv_morton_naive(torch.arange(0, 32**3, 1))\n",
    "# for i,j,k in zip(x,y,z):\n",
    "#     if i<16 and j < 16:\n",
    "#         grid[i * 32 * 32 + j * 32 + k] = 0.5\n",
    "grid[x * 32 * 32 + y * 32 + z] = grid_raw.flatten()[x * 32 * 32 + y * 32 + z]\n",
    "grid_3d = torch.reshape(grid > 0.01, [1, 32, 32, 32]).type(torch.bool)\n",
    "\n",
    "estimator = OccGridEstimator(\n",
    "    roi_aabb=[0, 0, 0, 1, 1, 1], resolution=32, levels=1\n",
    ").cuda()\n",
    "\n",
    "params_grid = {\n",
    "    \"resolution\": torch.tensor([32, 32, 32], dtype = torch.int32),\n",
    "    #\"aabbs\": torch.tensor([[-0.5, -0.5, -0.5, 1.5, 1.5, 1.5]]),\n",
    "    \"aabbs\": torch.tensor([[0, 0, 0, 1, 1, 1]]),\n",
    "    \"occs\":grid,\n",
    "    \"binaries\": grid_3d\n",
    "}\n",
    "estimator.load_state_dict(params_grid)"
   ]
  },
  {
   "cell_type": "code",
   "execution_count": 219,
   "id": "32766677-6c1f-4701-9df5-713e0ce01a97",
   "metadata": {},
   "outputs": [],
   "source": [
    "ray_indices, t_starts, t_ends = estimator.sampling(\n",
    "   rays_o, rays_d, near_plane=0.1, far_plane=3**(0.5),render_step_size = 1e-1,\n",
    "   early_stop_eps=1, alpha_thre=0.01,\n",
    ")"
   ]
  },
  {
   "cell_type": "code",
   "execution_count": 220,
   "id": "b7d8c3e4-4000-4828-a622-855d5ffd15cf",
   "metadata": {},
   "outputs": [
    {
     "data": {
      "text/plain": [
       "tensor([0, 0, 0, 0, 0, 0, 0, 1, 1, 1, 1, 1, 1, 1, 1], device='cuda:0')"
      ]
     },
     "execution_count": 220,
     "metadata": {},
     "output_type": "execute_result"
    }
   ],
   "source": [
    "ray_indices"
   ]
  },
  {
   "cell_type": "code",
   "execution_count": 221,
   "id": "70751d1c-8d1d-4254-8340-db1a3a0aea67",
   "metadata": {},
   "outputs": [
    {
     "data": {
      "text/plain": [
       "tensor([0.3000, 0.4000, 0.5000, 0.6000, 0.7000, 0.8000, 0.9000, 0.8000, 0.9000,\n",
       "        1.0000, 1.1000, 1.2000, 1.3000, 1.4000, 1.5000], device='cuda:0')"
      ]
     },
     "execution_count": 221,
     "metadata": {},
     "output_type": "execute_result"
    }
   ],
   "source": [
    "t_starts"
   ]
  },
  {
   "cell_type": "code",
   "execution_count": null,
   "id": "85d6e54f-24d9-4200-bced-9986319e7e9c",
   "metadata": {},
   "outputs": [],
   "source": []
  }
 ],
 "metadata": {
  "kernelspec": {
   "display_name": "Python 3 (ipykernel)",
   "language": "python",
   "name": "python3"
  },
  "language_info": {
   "codemirror_mode": {
    "name": "ipython",
    "version": 3
   },
   "file_extension": ".py",
   "mimetype": "text/x-python",
   "name": "python",
   "nbconvert_exporter": "python",
   "pygments_lexer": "ipython3",
   "version": "3.10.13"
  }
 },
 "nbformat": 4,
 "nbformat_minor": 5
}
